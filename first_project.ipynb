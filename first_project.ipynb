{
 "cells": [
  {
   "cell_type": "code",
   "execution_count": 1,
   "id": "418cc68d-afcd-4f99-b29e-503c18ab90c3",
   "metadata": {},
   "outputs": [
    {
     "name": "stdout",
     "output_type": "stream",
     "text": [
      "Requirement already satisfied: numpy in c:\\users\\lenovo\\appdata\\local\\programs\\python\\python313\\lib\\site-packages (2.2.0)Note: you may need to restart the kernel to use updated packages.\n",
      "\n"
     ]
    }
   ],
   "source": [
    "pip install numpy"
   ]
  },
  {
   "cell_type": "code",
   "execution_count": 2,
   "id": "98cf543c-9b26-4858-b8a5-8a4cb7fb5c2c",
   "metadata": {},
   "outputs": [],
   "source": [
    "import numpy as np\n"
   ]
  },
  {
   "cell_type": "code",
   "execution_count": 3,
   "id": "a20527f8-f7b7-4ef6-bfb7-b7399f04a428",
   "metadata": {},
   "outputs": [],
   "source": [
    "arr=np.array([1,2,3,4,5])\n"
   ]
  },
  {
   "cell_type": "code",
   "execution_count": 4,
   "id": "43ab0cb9-2b7e-4ead-9d6f-2289c3b3190f",
   "metadata": {},
   "outputs": [
    {
     "name": "stdout",
     "output_type": "stream",
     "text": [
      "[1 2 3 4 5]\n"
     ]
    }
   ],
   "source": [
    "print(arr)"
   ]
  },
  {
   "cell_type": "code",
   "execution_count": 5,
   "id": "27ec75db-3361-47a1-abd9-f2b6e9a976c0",
   "metadata": {},
   "outputs": [
    {
     "data": {
      "text/plain": [
       "numpy.ndarray"
      ]
     },
     "execution_count": 5,
     "metadata": {},
     "output_type": "execute_result"
    }
   ],
   "source": [
    "type(arr)"
   ]
  },
  {
   "cell_type": "code",
   "execution_count": 6,
   "id": "5d5b692e-36dc-46d6-b320-59893ba0a064",
   "metadata": {},
   "outputs": [
    {
     "name": "stdout",
     "output_type": "stream",
     "text": [
      "Shape: (5,)\n"
     ]
    }
   ],
   "source": [
    "print(\"Shape:\", arr.shape)"
   ]
  },
  {
   "cell_type": "code",
   "execution_count": 7,
   "id": "1d9c309a-7713-41b7-9181-0da31317747f",
   "metadata": {},
   "outputs": [],
   "source": [
    "zero_d=np.array(44)\n"
   ]
  },
  {
   "cell_type": "code",
   "execution_count": 8,
   "id": "c9fc36b6-3a33-4f8f-ae1b-93fd0e99238f",
   "metadata": {},
   "outputs": [
    {
     "name": "stdout",
     "output_type": "stream",
     "text": [
      "44\n"
     ]
    }
   ],
   "source": [
    "print(zero_d)"
   ]
  },
  {
   "cell_type": "code",
   "execution_count": 9,
   "id": "c485fed4-2dcd-4ebe-854a-fc014114e869",
   "metadata": {},
   "outputs": [
    {
     "data": {
      "text/plain": [
       "numpy.ndarray"
      ]
     },
     "execution_count": 9,
     "metadata": {},
     "output_type": "execute_result"
    }
   ],
   "source": [
    "type(zero_d)"
   ]
  },
  {
   "cell_type": "code",
   "execution_count": 10,
   "id": "a27f7227-39b1-46b9-b79e-e737bd6fa769",
   "metadata": {},
   "outputs": [
    {
     "name": "stdout",
     "output_type": "stream",
     "text": [
      "Shape: ()\n"
     ]
    }
   ],
   "source": [
    "print(\"Shape:\", zero_d.shape)"
   ]
  },
  {
   "cell_type": "code",
   "execution_count": 11,
   "id": "fb851e7a-3f9c-40df-b312-90de8f685685",
   "metadata": {},
   "outputs": [],
   "source": [
    "one_d=np.array([1,2,3,4,5])"
   ]
  },
  {
   "cell_type": "code",
   "execution_count": 12,
   "id": "28f3bdb8-60d4-43cf-84e5-73c8e168e3fb",
   "metadata": {},
   "outputs": [
    {
     "name": "stdout",
     "output_type": "stream",
     "text": [
      "[1 2 3 4 5]\n"
     ]
    }
   ],
   "source": [
    "print(one_d)"
   ]
  },
  {
   "cell_type": "code",
   "execution_count": 13,
   "id": "25c4952d-40a4-430b-b47c-e760c3ccbfe6",
   "metadata": {},
   "outputs": [
    {
     "data": {
      "text/plain": [
       "numpy.ndarray"
      ]
     },
     "execution_count": 13,
     "metadata": {},
     "output_type": "execute_result"
    }
   ],
   "source": [
    "type(one_d)"
   ]
  },
  {
   "cell_type": "code",
   "execution_count": 14,
   "id": "5a7333bf-d217-49da-833e-ee7b764e697b",
   "metadata": {},
   "outputs": [
    {
     "name": "stdout",
     "output_type": "stream",
     "text": [
      "shape (5,)\n"
     ]
    }
   ],
   "source": [
    "print(\"shape\", one_d.shape)"
   ]
  },
  {
   "cell_type": "code",
   "execution_count": 15,
   "id": "287821eb-79ec-4de4-b80b-0a1d84e7cf9f",
   "metadata": {},
   "outputs": [
    {
     "data": {
      "text/plain": [
       "1"
      ]
     },
     "execution_count": 15,
     "metadata": {},
     "output_type": "execute_result"
    }
   ],
   "source": [
    "one_d.ndim"
   ]
  },
  {
   "cell_type": "code",
   "execution_count": 16,
   "id": "e315b53a-d4ab-4cad-a128-243e398600b4",
   "metadata": {},
   "outputs": [
    {
     "data": {
      "text/plain": [
       "0"
      ]
     },
     "execution_count": 16,
     "metadata": {},
     "output_type": "execute_result"
    }
   ],
   "source": [
    "zero_d.ndim"
   ]
  },
  {
   "cell_type": "code",
   "execution_count": 17,
   "id": "b5982dfd-eda8-423f-bfc2-2cc71875e53c",
   "metadata": {},
   "outputs": [],
   "source": [
    "two_d=np.array([[1,2,3],[4,5,6]])"
   ]
  },
  {
   "cell_type": "code",
   "execution_count": 18,
   "id": "4b76112d-e5c5-446c-b3c4-a17f618bffd0",
   "metadata": {},
   "outputs": [
    {
     "data": {
      "text/plain": [
       "2"
      ]
     },
     "execution_count": 18,
     "metadata": {},
     "output_type": "execute_result"
    }
   ],
   "source": [
    "two_d.ndim\n",
    "\n",
    "\n"
   ]
  },
  {
   "cell_type": "markdown",
   "id": "a16b505c-ba06-4d14-8fd3-2cc5d381eaff",
   "metadata": {},
   "source": [
    "# 3D array"
   ]
  },
  {
   "cell_type": "code",
   "execution_count": 19,
   "id": "ac6fc423-c31c-434b-be6e-027c978c03d6",
   "metadata": {},
   "outputs": [],
   "source": [
    "# 3-D Array (Tensor)\n",
    "three_d = np.array([\n",
    "    [[1, 2, 3], [4, 5, 6]],\n",
    "    [[7, 8, 9], [10, 11, 12]]\n",
    "])"
   ]
  },
  {
   "cell_type": "code",
   "execution_count": 20,
   "id": "474fdc58-0460-476c-9e4d-a9c520977a15",
   "metadata": {},
   "outputs": [
    {
     "name": "stdout",
     "output_type": "stream",
     "text": [
      "shape: (2, 2, 3)\n"
     ]
    }
   ],
   "source": [
    "print(\"shape:\", three_d.shape)"
   ]
  },
  {
   "cell_type": "code",
   "execution_count": 21,
   "id": "b36486ac-e2a9-4e63-b244-8b1dfaae0f6c",
   "metadata": {},
   "outputs": [
    {
     "data": {
      "text/plain": [
       "3"
      ]
     },
     "execution_count": 21,
     "metadata": {},
     "output_type": "execute_result"
    }
   ],
   "source": [
    "\n",
    "\n",
    "three_d.ndim"
   ]
  },
  {
   "cell_type": "markdown",
   "id": "1e1be4e6-9e10-41d1-9c1b-9552a694b198",
   "metadata": {},
   "source": [
    "# Summary\n",
    "#  Dimension\t Example\t                       Shape     \tDescription\n",
    "#   0-D\t    np.array(42)    \t                    ()\t      Single scalar value.\n",
    "# 1-D\t    np.array([1, 2, 3])\t                    (3,)\t  A list of values (vector).\n",
    "# 2-D\t    np.array([[1, 2], [3, 4]])\t            (2, 2)\t  A table of values (matrix).\n",
    "# 3-D\t    np.array([[[1], [2]], [[3], [4]]])\t    (2, 2, 1) A stack of matrices (tensor).\n",
    "\n",
    "\n",
    "\n"
   ]
  },
  {
   "cell_type": "code",
   "execution_count": 2,
   "id": "fa63f4be-09ec-4429-b640-7eb9d929f400",
   "metadata": {},
   "outputs": [],
   "source": [
    "# summary\n"
   ]
  },
  {
   "cell_type": "code",
   "execution_count": 2,
   "id": "240a2313-3f3a-4537-80ba-57f0d05e8561",
   "metadata": {},
   "outputs": [],
   "source": [
    "## SummaryDD"
   ]
  },
  {
   "cell_type": "code",
   "execution_count": 3,
   "id": "5528f0dc-4d61-49fb-8586-c70ecaf24f01",
   "metadata": {},
   "outputs": [],
   "source": [
    "import numpy as np"
   ]
  },
  {
   "cell_type": "code",
   "execution_count": 4,
   "id": "3efc68b7-371a-4c2f-abd2-97e1d38ce2b0",
   "metadata": {},
   "outputs": [],
   "source": [
    "arr1=np.array([1,2,3,4,5,6,7,8,9,10,11,12])"
   ]
  },
  {
   "cell_type": "code",
   "execution_count": 5,
   "id": "aa201014-438e-4585-bffc-9953d8976ee3",
   "metadata": {},
   "outputs": [],
   "source": [
    "newarr=arr1.reshape(4,3)"
   ]
  },
  {
   "cell_type": "code",
   "execution_count": 6,
   "id": "d15ba3ec-59e6-45cf-8b4a-8a650efde186",
   "metadata": {},
   "outputs": [
    {
     "name": "stdout",
     "output_type": "stream",
     "text": [
      "[[ 1  2  3]\n",
      " [ 4  5  6]\n",
      " [ 7  8  9]\n",
      " [10 11 12]]\n"
     ]
    }
   ],
   "source": [
    "print(newarr)"
   ]
  },
  {
   "cell_type": "markdown",
   "id": "eb0368af-cf49-41fb-9a61-a74116d44888",
   "metadata": {},
   "source": [
    "# Flattening the arrays"
   ]
  },
  {
   "cell_type": "code",
   "execution_count": 10,
   "id": "f734ee3b-c33a-4aa4-b1b9-c6c0f4ce2fe9",
   "metadata": {},
   "outputs": [],
   "source": [
    "import numpy as np"
   ]
  },
  {
   "cell_type": "code",
   "execution_count": 11,
   "id": "34d91270-f3f8-4c9d-a526-a3a37ce6c907",
   "metadata": {},
   "outputs": [],
   "source": [
    "arr2=np.array([[1,2,3],[4,5,6]])"
   ]
  },
  {
   "cell_type": "code",
   "execution_count": 13,
   "id": "921c4435-67b4-4320-b824-03bd96235909",
   "metadata": {},
   "outputs": [],
   "source": [
    "arr3=arr2.reshape(-1)"
   ]
  },
  {
   "cell_type": "code",
   "execution_count": 14,
   "id": "ca71f51a-a7a7-4cec-9d90-d5e373fa108f",
   "metadata": {},
   "outputs": [
    {
     "name": "stdout",
     "output_type": "stream",
     "text": [
      "[1 2 3 4 5 6]\n"
     ]
    }
   ],
   "source": [
    "print(arr3)"
   ]
  },
  {
   "cell_type": "code",
   "execution_count": 15,
   "id": "82294ebf-6494-475c-a76b-3bfd53999f7c",
   "metadata": {},
   "outputs": [
    {
     "name": "stdout",
     "output_type": "stream",
     "text": [
      "[1 2 3 4 5 6]\n"
     ]
    }
   ],
   "source": [
    "print(arr3)"
   ]
  },
  {
   "cell_type": "code",
   "execution_count": 17,
   "id": "411a844a-5e80-4045-873c-e93077eeaf33",
   "metadata": {},
   "outputs": [
    {
     "data": {
      "text/plain": [
       "array([1, 2, 3, 4, 5, 6])"
      ]
     },
     "execution_count": 17,
     "metadata": {},
     "output_type": "execute_result"
    }
   ],
   "source": [
    "arr3"
   ]
  },
  {
   "cell_type": "code",
   "execution_count": 22,
   "id": "8f801bc4-c91b-44f7-81ab-66257ffb0b98",
   "metadata": {},
   "outputs": [],
   "source": [
    "c = np.array([1,2,3,4,5,6,7,8,9,10,11,12])"
   ]
  },
  {
   "cell_type": "code",
   "execution_count": 23,
   "id": "82009627-a3cd-4c64-ba85-351707ae41e0",
   "metadata": {},
   "outputs": [],
   "source": [
    "new_arr= c.reshape(4,3)"
   ]
  },
  {
   "cell_type": "code",
   "execution_count": 25,
   "id": "6590f1ca-576b-49e0-8176-d8d84960c81d",
   "metadata": {},
   "outputs": [
    {
     "data": {
      "text/plain": [
       "array([[ 1,  2,  3],\n",
       "       [ 4,  5,  6],\n",
       "       [ 7,  8,  9],\n",
       "       [10, 11, 12]])"
      ]
     },
     "execution_count": 25,
     "metadata": {},
     "output_type": "execute_result"
    }
   ],
   "source": [
    "new_arr"
   ]
  },
  {
   "cell_type": "code",
   "execution_count": 26,
   "id": "bef2140d-6703-4395-9686-ba31b1de6eba",
   "metadata": {},
   "outputs": [],
   "source": [
    "import numpy as np"
   ]
  },
  {
   "cell_type": "code",
   "execution_count": 29,
   "id": "56fdea7b-bdb6-4a01-894b-fd11bb9b3b5b",
   "metadata": {},
   "outputs": [],
   "source": [
    "    a=np.array([3,4,5,6])"
   ]
  },
  {
   "cell_type": "code",
   "execution_count": 30,
   "id": "99ae4b78-7407-48eb-a70c-876f28eb960f",
   "metadata": {},
   "outputs": [
    {
     "data": {
      "text/plain": [
       "array([3, 4, 5, 6])"
      ]
     },
     "execution_count": 30,
     "metadata": {},
     "output_type": "execute_result"
    }
   ],
   "source": [
    "a"
   ]
  },
  {
   "cell_type": "code",
   "execution_count": 40,
   "id": "6eb58035-3eeb-4122-b585-15eb6ef8f0ae",
   "metadata": {},
   "outputs": [
    {
     "data": {
      "text/plain": [
       "1"
      ]
     },
     "execution_count": 40,
     "metadata": {},
     "output_type": "execute_result"
    }
   ],
   "source": [
    "a.ndim"
   ]
  },
  {
   "cell_type": "code",
   "execution_count": 2,
   "id": "dbf14a64-a9ec-4c99-af5b-92f6ac5a9470",
   "metadata": {},
   "outputs": [],
   "source": [
    "import numpy as np\n"
   ]
  },
  {
   "cell_type": "code",
   "execution_count": 3,
   "id": "f32f0a21-fd1c-42cd-b337-336048ee22f9",
   "metadata": {},
   "outputs": [],
   "source": [
    "arr=np.array([1,2,3])"
   ]
  },
  {
   "cell_type": "code",
   "execution_count": 5,
   "id": "5ffeb76d-87af-4da9-b6ba-79669448cf20",
   "metadata": {},
   "outputs": [
    {
     "name": "stdout",
     "output_type": "stream",
     "text": [
      "1\n",
      "2\n",
      "3\n"
     ]
    }
   ],
   "source": [
    "for i in arr:\n",
    "    print(i)"
   ]
  },
  {
   "cell_type": "code",
   "execution_count": 6,
   "id": "afd7060c-2911-4929-959d-bf803ad0d4f2",
   "metadata": {},
   "outputs": [],
   "source": [
    "arr2=np.array([[1,2,3],[4,5,6]])"
   ]
  },
  {
   "cell_type": "code",
   "execution_count": 7,
   "id": "6e25ef74-f2dc-40e4-874d-00d7b7edc526",
   "metadata": {},
   "outputs": [
    {
     "name": "stdout",
     "output_type": "stream",
     "text": [
      "1\n",
      "2\n",
      "3\n",
      "4\n",
      "5\n",
      "6\n"
     ]
    }
   ],
   "source": [
    "for j in arr2:\n",
    "    for i in j:\n",
    "        print(i)"
   ]
  },
  {
   "cell_type": "code",
   "execution_count": 8,
   "id": "163536e9-e3d0-457c-b901-c250a37f1e54",
   "metadata": {},
   "outputs": [
    {
     "name": "stdout",
     "output_type": "stream",
     "text": [
      "[1 2 3]\n",
      "[4 5 6]\n"
     ]
    }
   ],
   "source": [
    "for j in arr2:\n",
    "    print(j)"
   ]
  },
  {
   "cell_type": "code",
   "execution_count": 1,
   "id": "89b2d19e-547f-42d2-bcf3-9eef33ea3aa5",
   "metadata": {},
   "outputs": [
    {
     "name": "stdout",
     "output_type": "stream",
     "text": [
      "Collecting pandas\n",
      "  Downloading pandas-2.2.3-cp313-cp313-win_amd64.whl.metadata (19 kB)\n",
      "Requirement already satisfied: numpy>=1.26.0 in c:\\users\\lenovo\\appdata\\local\\programs\\python\\python313\\lib\\site-packages (from pandas) (2.2.0)\n",
      "Requirement already satisfied: python-dateutil>=2.8.2 in c:\\users\\lenovo\\appdata\\local\\programs\\python\\python313\\lib\\site-packages (from pandas) (2.9.0.post0)\n",
      "Collecting pytz>=2020.1 (from pandas)\n",
      "  Downloading pytz-2024.2-py2.py3-none-any.whl.metadata (22 kB)\n",
      "Collecting tzdata>=2022.7 (from pandas)\n",
      "  Downloading tzdata-2024.2-py2.py3-none-any.whl.metadata (1.4 kB)\n",
      "Requirement already satisfied: six>=1.5 in c:\\users\\lenovo\\appdata\\local\\programs\\python\\python313\\lib\\site-packages (from python-dateutil>=2.8.2->pandas) (1.17.0)\n",
      "Downloading pandas-2.2.3-cp313-cp313-win_amd64.whl (11.5 MB)\n",
      "   ---------------------------------------- 0.0/11.5 MB ? eta -:--:--\n",
      "   -------- ------------------------------- 2.4/11.5 MB 12.4 MB/s eta 0:00:01\n",
      "   ---------------- ----------------------- 4.7/11.5 MB 11.6 MB/s eta 0:00:01\n",
      "   ---------------------- ----------------- 6.6/11.5 MB 10.6 MB/s eta 0:00:01\n",
      "   ------------------------------- -------- 8.9/11.5 MB 10.5 MB/s eta 0:00:01\n",
      "   ---------------------------------------  11.3/11.5 MB 10.8 MB/s eta 0:00:01\n",
      "   ---------------------------------------- 11.5/11.5 MB 9.9 MB/s eta 0:00:00\n",
      "Downloading pytz-2024.2-py2.py3-none-any.whl (508 kB)\n",
      "Downloading tzdata-2024.2-py2.py3-none-any.whl (346 kB)\n",
      "Installing collected packages: pytz, tzdata, pandas\n",
      "Successfully installed pandas-2.2.3 pytz-2024.2 tzdata-2024.2\n",
      "Note: you may need to restart the kernel to use updated packages.\n"
     ]
    }
   ],
   "source": [
    "pip install pandas"
   ]
  },
  {
   "cell_type": "raw",
   "id": "4e6d701d-cd6a-4971-9d9d-2c7ede21c835",
   "metadata": {},
   "source": [
    "import pandas as pd"
   ]
  },
  {
   "cell_type": "raw",
   "id": "21178b60-4818-4937-a2df-bb316a0fb4d5",
   "metadata": {},
   "source": [
    "a = [1,7,2]"
   ]
  },
  {
   "cell_type": "raw",
   "id": "21ab8395-ff1b-4a2e-9c41-082045c837c4",
   "metadata": {},
   "source": [
    "myvar = pd.Series(a)"
   ]
  },
  {
   "cell_type": "code",
   "execution_count": 11,
   "id": "bfae0a27-c50f-4fab-8b54-a2fdbc2711e2",
   "metadata": {},
   "outputs": [],
   "source": [
    "import pandas as pd"
   ]
  },
  {
   "cell_type": "code",
   "execution_count": 12,
   "id": "ba80bc89-948a-4d00-9f5e-16f58f3e6d81",
   "metadata": {},
   "outputs": [],
   "source": [
    "sample = {\"day1\": 420, \"day2\": 380, \"day3\": 390}"
   ]
  },
  {
   "cell_type": "code",
   "execution_count": 13,
   "id": "165f0728-ca3d-45c6-adc8-210f1caa7751",
   "metadata": {},
   "outputs": [],
   "source": [
    "myvar = pd.Series(sample)"
   ]
  },
  {
   "cell_type": "code",
   "execution_count": 14,
   "id": "2d60c5c9-6849-42c4-9cdb-154bb580af98",
   "metadata": {},
   "outputs": [
    {
     "name": "stdout",
     "output_type": "stream",
     "text": [
      "day1    420\n",
      "day2    380\n",
      "day3    390\n",
      "dtype: int64\n"
     ]
    }
   ],
   "source": [
    "print(myvar)"
   ]
  },
  {
   "cell_type": "code",
   "execution_count": 16,
   "id": "5234e3eb-c0c5-406f-abe6-d7ce2fad563d",
   "metadata": {},
   "outputs": [],
   "source": [
    "data={\n",
    "    \"calories\" : [420,380,390],\n",
    "    \"duration\" : [50,40,45]\n",
    "}"
   ]
  },
  {
   "cell_type": "code",
   "execution_count": 17,
   "id": "33bce426-a872-46ad-89ae-baf8bb365650",
   "metadata": {},
   "outputs": [
    {
     "name": "stdout",
     "output_type": "stream",
     "text": [
      "{'calories': [420, 380, 390], 'duration': [50, 40, 45]}\n"
     ]
    }
   ],
   "source": [
    "print(data)"
   ]
  },
  {
   "cell_type": "code",
   "execution_count": 18,
   "id": "667ec061-b094-49ba-93fa-456bbc6e44f8",
   "metadata": {},
   "outputs": [],
   "source": [
    "df = pd.DataFrame(data)"
   ]
  },
  {
   "cell_type": "code",
   "execution_count": 19,
   "id": "d94dd380-6356-492f-858b-a00803fff4f5",
   "metadata": {},
   "outputs": [
    {
     "name": "stdout",
     "output_type": "stream",
     "text": [
      "   calories  duration\n",
      "0       420        50\n",
      "1       380        40\n",
      "2       390        45\n"
     ]
    }
   ],
   "source": [
    "print(df)"
   ]
  },
  {
   "cell_type": "code",
   "execution_count": 20,
   "id": "253fa7ba-3dd7-4642-b740-43966d7596f7",
   "metadata": {},
   "outputs": [
    {
     "data": {
      "text/html": [
       "<div>\n",
       "<style scoped>\n",
       "    .dataframe tbody tr th:only-of-type {\n",
       "        vertical-align: middle;\n",
       "    }\n",
       "\n",
       "    .dataframe tbody tr th {\n",
       "        vertical-align: top;\n",
       "    }\n",
       "\n",
       "    .dataframe thead th {\n",
       "        text-align: right;\n",
       "    }\n",
       "</style>\n",
       "<table border=\"1\" class=\"dataframe\">\n",
       "  <thead>\n",
       "    <tr style=\"text-align: right;\">\n",
       "      <th></th>\n",
       "      <th>calories</th>\n",
       "      <th>duration</th>\n",
       "    </tr>\n",
       "  </thead>\n",
       "  <tbody>\n",
       "    <tr>\n",
       "      <th>0</th>\n",
       "      <td>420</td>\n",
       "      <td>50</td>\n",
       "    </tr>\n",
       "    <tr>\n",
       "      <th>1</th>\n",
       "      <td>380</td>\n",
       "      <td>40</td>\n",
       "    </tr>\n",
       "    <tr>\n",
       "      <th>2</th>\n",
       "      <td>390</td>\n",
       "      <td>45</td>\n",
       "    </tr>\n",
       "  </tbody>\n",
       "</table>\n",
       "</div>"
      ],
      "text/plain": [
       "   calories  duration\n",
       "0       420        50\n",
       "1       380        40\n",
       "2       390        45"
      ]
     },
     "execution_count": 20,
     "metadata": {},
     "output_type": "execute_result"
    }
   ],
   "source": [
    "df"
   ]
  },
  {
   "cell_type": "code",
   "execution_count": 21,
   "id": "57e9ecdd-b6f8-4571-9bb4-689e6e372ffc",
   "metadata": {},
   "outputs": [],
   "source": [
    "sample_data= {\n",
    "    \"week_days\" : [\"Sunday\",\"Monday\",\"Tuesday\"],\n",
    "    \"test_score\": [10,20,30]\n",
    "}"
   ]
  },
  {
   "cell_type": "code",
   "execution_count": 22,
   "id": "3ad2a25d-6f0f-4c96-b346-b48701288f54",
   "metadata": {},
   "outputs": [],
   "source": [
    "df=pd.DataFrame(sample_data)"
   ]
  },
  {
   "cell_type": "code",
   "execution_count": 23,
   "id": "97d0a187-e33d-40ed-97c8-ee612743f04d",
   "metadata": {},
   "outputs": [
    {
     "data": {
      "text/html": [
       "<div>\n",
       "<style scoped>\n",
       "    .dataframe tbody tr th:only-of-type {\n",
       "        vertical-align: middle;\n",
       "    }\n",
       "\n",
       "    .dataframe tbody tr th {\n",
       "        vertical-align: top;\n",
       "    }\n",
       "\n",
       "    .dataframe thead th {\n",
       "        text-align: right;\n",
       "    }\n",
       "</style>\n",
       "<table border=\"1\" class=\"dataframe\">\n",
       "  <thead>\n",
       "    <tr style=\"text-align: right;\">\n",
       "      <th></th>\n",
       "      <th>week_days</th>\n",
       "      <th>test_score</th>\n",
       "    </tr>\n",
       "  </thead>\n",
       "  <tbody>\n",
       "    <tr>\n",
       "      <th>0</th>\n",
       "      <td>Sunday</td>\n",
       "      <td>10</td>\n",
       "    </tr>\n",
       "    <tr>\n",
       "      <th>1</th>\n",
       "      <td>Monday</td>\n",
       "      <td>20</td>\n",
       "    </tr>\n",
       "    <tr>\n",
       "      <th>2</th>\n",
       "      <td>Tuesday</td>\n",
       "      <td>30</td>\n",
       "    </tr>\n",
       "  </tbody>\n",
       "</table>\n",
       "</div>"
      ],
      "text/plain": [
       "  week_days  test_score\n",
       "0    Sunday          10\n",
       "1    Monday          20\n",
       "2   Tuesday          30"
      ]
     },
     "execution_count": 23,
     "metadata": {},
     "output_type": "execute_result"
    }
   ],
   "source": [
    "df"
   ]
  },
  {
   "cell_type": "code",
   "execution_count": 24,
   "id": "2a117dc3-2ea3-4a7b-a287-12aebbee6067",
   "metadata": {},
   "outputs": [
    {
     "data": {
      "text/plain": [
       "week_days     Sunday\n",
       "test_score        10\n",
       "Name: 0, dtype: object"
      ]
     },
     "execution_count": 24,
     "metadata": {},
     "output_type": "execute_result"
    }
   ],
   "source": [
    "df.loc[0]"
   ]
  },
  {
   "cell_type": "code",
   "execution_count": 27,
   "id": "6221196e-5ebc-486b-8a04-2a6730ea7ee1",
   "metadata": {},
   "outputs": [],
   "source": [
    "import pandas as pd"
   ]
  },
  {
   "cell_type": "code",
   "execution_count": 29,
   "id": "8f2305a8-8235-4599-b697-54f80439dd58",
   "metadata": {},
   "outputs": [],
   "source": [
    "df = pd.read_csv('airport.csv')"
   ]
  },
  {
   "cell_type": "code",
   "execution_count": 30,
   "id": "e5e2a429-99aa-470d-9e66-acddd9890d32",
   "metadata": {},
   "outputs": [
    {
     "data": {
      "text/html": [
       "<div>\n",
       "<style scoped>\n",
       "    .dataframe tbody tr th:only-of-type {\n",
       "        vertical-align: middle;\n",
       "    }\n",
       "\n",
       "    .dataframe tbody tr th {\n",
       "        vertical-align: top;\n",
       "    }\n",
       "\n",
       "    .dataframe thead th {\n",
       "        text-align: right;\n",
       "    }\n",
       "</style>\n",
       "<table border=\"1\" class=\"dataframe\">\n",
       "  <thead>\n",
       "    <tr style=\"text-align: right;\">\n",
       "      <th></th>\n",
       "      <th>id</th>\n",
       "      <th>ident</th>\n",
       "      <th>type</th>\n",
       "      <th>name</th>\n",
       "      <th>latitude_deg</th>\n",
       "      <th>longitude_deg</th>\n",
       "      <th>elevation_ft</th>\n",
       "      <th>iso_region</th>\n",
       "      <th>municipality</th>\n",
       "      <th>scheduled_service</th>\n",
       "      <th>gps_code</th>\n",
       "      <th>iata_code</th>\n",
       "      <th>local_code</th>\n",
       "      <th>year_built</th>\n",
       "      <th>year_tier</th>\n",
       "      <th>Closed</th>\n",
       "      <th>home_link</th>\n",
       "      <th>wikipedia_link</th>\n",
       "      <th>keywords</th>\n",
       "      <th>score</th>\n",
       "    </tr>\n",
       "  </thead>\n",
       "  <tbody>\n",
       "    <tr>\n",
       "      <th>0</th>\n",
       "      <td>26555</td>\n",
       "      <td>VIDP</td>\n",
       "      <td>large_airport</td>\n",
       "      <td>Indira Gandhi International Airport</td>\n",
       "      <td>28.566500</td>\n",
       "      <td>77.103104</td>\n",
       "      <td>777.0</td>\n",
       "      <td>IN-DL</td>\n",
       "      <td>New Delhi</td>\n",
       "      <td>1</td>\n",
       "      <td>VIDP</td>\n",
       "      <td>DEL</td>\n",
       "      <td>NaN</td>\n",
       "      <td>1930.0</td>\n",
       "      <td>1950.0</td>\n",
       "      <td>n</td>\n",
       "      <td>http://www.newdelhiairport.in/</td>\n",
       "      <td>http://en.wikipedia.org/wiki/Indira_Gandhi_Int...</td>\n",
       "      <td>Palam Air Force Station</td>\n",
       "      <td>51475</td>\n",
       "    </tr>\n",
       "    <tr>\n",
       "      <th>1</th>\n",
       "      <td>26434</td>\n",
       "      <td>VABB</td>\n",
       "      <td>large_airport</td>\n",
       "      <td>Chhatrapati Shivaji International Airport</td>\n",
       "      <td>19.088699</td>\n",
       "      <td>72.867897</td>\n",
       "      <td>39.0</td>\n",
       "      <td>IN-MM</td>\n",
       "      <td>Mumbai</td>\n",
       "      <td>1</td>\n",
       "      <td>VABB</td>\n",
       "      <td>BOM</td>\n",
       "      <td>NaN</td>\n",
       "      <td>1942.0</td>\n",
       "      <td>1950.0</td>\n",
       "      <td>n</td>\n",
       "      <td>http://www.csia.in/</td>\n",
       "      <td>http://en.wikipedia.org/wiki/Chhatrapati_Shiva...</td>\n",
       "      <td>Bombay, Sahar International Airport</td>\n",
       "      <td>1014475</td>\n",
       "    </tr>\n",
       "    <tr>\n",
       "      <th>2</th>\n",
       "      <td>26618</td>\n",
       "      <td>VOMM</td>\n",
       "      <td>large_airport</td>\n",
       "      <td>Chennai International Airport</td>\n",
       "      <td>12.990005</td>\n",
       "      <td>80.169296</td>\n",
       "      <td>52.0</td>\n",
       "      <td>IN-TN</td>\n",
       "      <td>Chennai</td>\n",
       "      <td>1</td>\n",
       "      <td>VOMM</td>\n",
       "      <td>MAA</td>\n",
       "      <td>NaN</td>\n",
       "      <td>1910.0</td>\n",
       "      <td>1950.0</td>\n",
       "      <td>n</td>\n",
       "      <td>NaN</td>\n",
       "      <td>http://en.wikipedia.org/wiki/Chennai_Internati...</td>\n",
       "      <td>NaN</td>\n",
       "      <td>51150</td>\n",
       "    </tr>\n",
       "    <tr>\n",
       "      <th>3</th>\n",
       "      <td>35145</td>\n",
       "      <td>VOBL</td>\n",
       "      <td>large_airport</td>\n",
       "      <td>Kempegowda International Airport</td>\n",
       "      <td>13.197900</td>\n",
       "      <td>77.706299</td>\n",
       "      <td>3000.0</td>\n",
       "      <td>IN-KA</td>\n",
       "      <td>Bangalore</td>\n",
       "      <td>1</td>\n",
       "      <td>VOBL</td>\n",
       "      <td>BLR</td>\n",
       "      <td>NaN</td>\n",
       "      <td>2008.0</td>\n",
       "      <td>2010.0</td>\n",
       "      <td>n</td>\n",
       "      <td>http://www.bengaluruairport.com/home/home.jspx</td>\n",
       "      <td>https://en.wikipedia.org/wiki/Kempegowda_Inter...</td>\n",
       "      <td>NaN</td>\n",
       "      <td>51200</td>\n",
       "    </tr>\n",
       "    <tr>\n",
       "      <th>4</th>\n",
       "      <td>26444</td>\n",
       "      <td>VAGO</td>\n",
       "      <td>large_airport</td>\n",
       "      <td>Goa International Airport</td>\n",
       "      <td>15.380800</td>\n",
       "      <td>73.831398</td>\n",
       "      <td>150.0</td>\n",
       "      <td>IN-GA</td>\n",
       "      <td>Vasco da Gama</td>\n",
       "      <td>1</td>\n",
       "      <td>VOGO</td>\n",
       "      <td>GOI</td>\n",
       "      <td>NaN</td>\n",
       "      <td>1955.0</td>\n",
       "      <td>1955.0</td>\n",
       "      <td>n</td>\n",
       "      <td>NaN</td>\n",
       "      <td>http://en.wikipedia.org/wiki/Dabolim_Airport</td>\n",
       "      <td>Goa Airport, Dabolim Navy Airbase, ________隷怄_...</td>\n",
       "      <td>875</td>\n",
       "    </tr>\n",
       "    <tr>\n",
       "      <th>...</th>\n",
       "      <td>...</td>\n",
       "      <td>...</td>\n",
       "      <td>...</td>\n",
       "      <td>...</td>\n",
       "      <td>...</td>\n",
       "      <td>...</td>\n",
       "      <td>...</td>\n",
       "      <td>...</td>\n",
       "      <td>...</td>\n",
       "      <td>...</td>\n",
       "      <td>...</td>\n",
       "      <td>...</td>\n",
       "      <td>...</td>\n",
       "      <td>...</td>\n",
       "      <td>...</td>\n",
       "      <td>...</td>\n",
       "      <td>...</td>\n",
       "      <td>...</td>\n",
       "      <td>...</td>\n",
       "      <td>...</td>\n",
       "    </tr>\n",
       "    <tr>\n",
       "      <th>332</th>\n",
       "      <td>46625</td>\n",
       "      <td>IN-0062</td>\n",
       "      <td>small_airport</td>\n",
       "      <td>Shirpur Airport</td>\n",
       "      <td>21.323999</td>\n",
       "      <td>74.956734</td>\n",
       "      <td>NaN</td>\n",
       "      <td>IN-MM</td>\n",
       "      <td>Shirpur</td>\n",
       "      <td>0</td>\n",
       "      <td>NaN</td>\n",
       "      <td>NaN</td>\n",
       "      <td>NaN</td>\n",
       "      <td>NaN</td>\n",
       "      <td>NaN</td>\n",
       "      <td>n</td>\n",
       "      <td>NaN</td>\n",
       "      <td>NaN</td>\n",
       "      <td>Shirpur, Dhule</td>\n",
       "      <td>0</td>\n",
       "    </tr>\n",
       "    <tr>\n",
       "      <th>333</th>\n",
       "      <td>46640</td>\n",
       "      <td>IN-0064</td>\n",
       "      <td>small_airport</td>\n",
       "      <td>Umaria Air Field</td>\n",
       "      <td>23.532514</td>\n",
       "      <td>80.808220</td>\n",
       "      <td>1510.0</td>\n",
       "      <td>IN-MP</td>\n",
       "      <td>Umaria</td>\n",
       "      <td>0</td>\n",
       "      <td>NaN</td>\n",
       "      <td>NaN</td>\n",
       "      <td>NaN</td>\n",
       "      <td>NaN</td>\n",
       "      <td>NaN</td>\n",
       "      <td>n</td>\n",
       "      <td>NaN</td>\n",
       "      <td>NaN</td>\n",
       "      <td>NaN</td>\n",
       "      <td>0</td>\n",
       "    </tr>\n",
       "    <tr>\n",
       "      <th>334</th>\n",
       "      <td>46561</td>\n",
       "      <td>IN-0038</td>\n",
       "      <td>heliport</td>\n",
       "      <td>Upper Tadong Indian Army Helipad</td>\n",
       "      <td>27.306717</td>\n",
       "      <td>88.599650</td>\n",
       "      <td>NaN</td>\n",
       "      <td>IN-SK</td>\n",
       "      <td>Upper Tadong</td>\n",
       "      <td>0</td>\n",
       "      <td>NaN</td>\n",
       "      <td>NaN</td>\n",
       "      <td>NaN</td>\n",
       "      <td>NaN</td>\n",
       "      <td>NaN</td>\n",
       "      <td>n</td>\n",
       "      <td>NaN</td>\n",
       "      <td>NaN</td>\n",
       "      <td>NaN</td>\n",
       "      <td>0</td>\n",
       "    </tr>\n",
       "    <tr>\n",
       "      <th>335</th>\n",
       "      <td>319166</td>\n",
       "      <td>IN-0101</td>\n",
       "      <td>small_airport</td>\n",
       "      <td>Vanasthali Airport</td>\n",
       "      <td>26.407627</td>\n",
       "      <td>75.870128</td>\n",
       "      <td>NaN</td>\n",
       "      <td>IN-RJ</td>\n",
       "      <td>Vanasthali</td>\n",
       "      <td>0</td>\n",
       "      <td>NaN</td>\n",
       "      <td>NaN</td>\n",
       "      <td>NaN</td>\n",
       "      <td>NaN</td>\n",
       "      <td>NaN</td>\n",
       "      <td>n</td>\n",
       "      <td>NaN</td>\n",
       "      <td>NaN</td>\n",
       "      <td>NaN</td>\n",
       "      <td>0</td>\n",
       "    </tr>\n",
       "    <tr>\n",
       "      <th>336</th>\n",
       "      <td>46557</td>\n",
       "      <td>IN-0034</td>\n",
       "      <td>small_airport</td>\n",
       "      <td>Vijay Nagar Airport</td>\n",
       "      <td>19.884100</td>\n",
       "      <td>73.840567</td>\n",
       "      <td>NaN</td>\n",
       "      <td>IN-MM</td>\n",
       "      <td>Vijay Nagar</td>\n",
       "      <td>0</td>\n",
       "      <td>NaN</td>\n",
       "      <td>NaN</td>\n",
       "      <td>NaN</td>\n",
       "      <td>NaN</td>\n",
       "      <td>NaN</td>\n",
       "      <td>n</td>\n",
       "      <td>NaN</td>\n",
       "      <td>NaN</td>\n",
       "      <td>NaN</td>\n",
       "      <td>0</td>\n",
       "    </tr>\n",
       "  </tbody>\n",
       "</table>\n",
       "<p>337 rows × 20 columns</p>\n",
       "</div>"
      ],
      "text/plain": [
       "         id    ident           type  \\\n",
       "0     26555     VIDP  large_airport   \n",
       "1     26434     VABB  large_airport   \n",
       "2     26618     VOMM  large_airport   \n",
       "3     35145     VOBL  large_airport   \n",
       "4     26444     VAGO  large_airport   \n",
       "..      ...      ...            ...   \n",
       "332   46625  IN-0062  small_airport   \n",
       "333   46640  IN-0064  small_airport   \n",
       "334   46561  IN-0038       heliport   \n",
       "335  319166  IN-0101  small_airport   \n",
       "336   46557  IN-0034  small_airport   \n",
       "\n",
       "                                          name  latitude_deg  longitude_deg  \\\n",
       "0          Indira Gandhi International Airport     28.566500      77.103104   \n",
       "1    Chhatrapati Shivaji International Airport     19.088699      72.867897   \n",
       "2                Chennai International Airport     12.990005      80.169296   \n",
       "3             Kempegowda International Airport     13.197900      77.706299   \n",
       "4                    Goa International Airport     15.380800      73.831398   \n",
       "..                                         ...           ...            ...   \n",
       "332                            Shirpur Airport     21.323999      74.956734   \n",
       "333                           Umaria Air Field     23.532514      80.808220   \n",
       "334           Upper Tadong Indian Army Helipad     27.306717      88.599650   \n",
       "335                         Vanasthali Airport     26.407627      75.870128   \n",
       "336                        Vijay Nagar Airport     19.884100      73.840567   \n",
       "\n",
       "     elevation_ft iso_region   municipality  scheduled_service gps_code  \\\n",
       "0           777.0      IN-DL      New Delhi                  1     VIDP   \n",
       "1            39.0      IN-MM         Mumbai                  1     VABB   \n",
       "2            52.0      IN-TN        Chennai                  1     VOMM   \n",
       "3          3000.0      IN-KA      Bangalore                  1     VOBL   \n",
       "4           150.0      IN-GA  Vasco da Gama                  1     VOGO   \n",
       "..            ...        ...            ...                ...      ...   \n",
       "332           NaN      IN-MM        Shirpur                  0      NaN   \n",
       "333        1510.0      IN-MP         Umaria                  0      NaN   \n",
       "334           NaN      IN-SK   Upper Tadong                  0      NaN   \n",
       "335           NaN      IN-RJ     Vanasthali                  0      NaN   \n",
       "336           NaN      IN-MM    Vijay Nagar                  0      NaN   \n",
       "\n",
       "    iata_code local_code  year_built  year_tier Closed  \\\n",
       "0         DEL        NaN      1930.0     1950.0      n   \n",
       "1         BOM        NaN      1942.0     1950.0      n   \n",
       "2         MAA        NaN      1910.0     1950.0      n   \n",
       "3         BLR        NaN      2008.0     2010.0      n   \n",
       "4         GOI        NaN      1955.0     1955.0      n   \n",
       "..        ...        ...         ...        ...    ...   \n",
       "332       NaN        NaN         NaN        NaN      n   \n",
       "333       NaN        NaN         NaN        NaN      n   \n",
       "334       NaN        NaN         NaN        NaN      n   \n",
       "335       NaN        NaN         NaN        NaN      n   \n",
       "336       NaN        NaN         NaN        NaN      n   \n",
       "\n",
       "                                          home_link  \\\n",
       "0                    http://www.newdelhiairport.in/   \n",
       "1                               http://www.csia.in/   \n",
       "2                                               NaN   \n",
       "3    http://www.bengaluruairport.com/home/home.jspx   \n",
       "4                                               NaN   \n",
       "..                                              ...   \n",
       "332                                             NaN   \n",
       "333                                             NaN   \n",
       "334                                             NaN   \n",
       "335                                             NaN   \n",
       "336                                             NaN   \n",
       "\n",
       "                                        wikipedia_link  \\\n",
       "0    http://en.wikipedia.org/wiki/Indira_Gandhi_Int...   \n",
       "1    http://en.wikipedia.org/wiki/Chhatrapati_Shiva...   \n",
       "2    http://en.wikipedia.org/wiki/Chennai_Internati...   \n",
       "3    https://en.wikipedia.org/wiki/Kempegowda_Inter...   \n",
       "4         http://en.wikipedia.org/wiki/Dabolim_Airport   \n",
       "..                                                 ...   \n",
       "332                                                NaN   \n",
       "333                                                NaN   \n",
       "334                                                NaN   \n",
       "335                                                NaN   \n",
       "336                                                NaN   \n",
       "\n",
       "                                              keywords    score  \n",
       "0                              Palam Air Force Station    51475  \n",
       "1                  Bombay, Sahar International Airport  1014475  \n",
       "2                                                  NaN    51150  \n",
       "3                                                  NaN    51200  \n",
       "4    Goa Airport, Dabolim Navy Airbase, ________隷怄_...      875  \n",
       "..                                                 ...      ...  \n",
       "332                                     Shirpur, Dhule        0  \n",
       "333                                                NaN        0  \n",
       "334                                                NaN        0  \n",
       "335                                                NaN        0  \n",
       "336                                                NaN        0  \n",
       "\n",
       "[337 rows x 20 columns]"
      ]
     },
     "execution_count": 30,
     "metadata": {},
     "output_type": "execute_result"
    }
   ],
   "source": [
    "df"
   ]
  },
  {
   "cell_type": "code",
   "execution_count": 31,
   "id": "c315615f-f0da-48eb-be34-b88c66e4ee4d",
   "metadata": {},
   "outputs": [
    {
     "name": "stdout",
     "output_type": "stream",
     "text": [
      "         id    ident           type  \\\n",
      "0     26555     VIDP  large_airport   \n",
      "1     26434     VABB  large_airport   \n",
      "2     26618     VOMM  large_airport   \n",
      "3     35145     VOBL  large_airport   \n",
      "4     26444     VAGO  large_airport   \n",
      "..      ...      ...            ...   \n",
      "332   46625  IN-0062  small_airport   \n",
      "333   46640  IN-0064  small_airport   \n",
      "334   46561  IN-0038       heliport   \n",
      "335  319166  IN-0101  small_airport   \n",
      "336   46557  IN-0034  small_airport   \n",
      "\n",
      "                                          name  latitude_deg  longitude_deg  \\\n",
      "0          Indira Gandhi International Airport     28.566500      77.103104   \n",
      "1    Chhatrapati Shivaji International Airport     19.088699      72.867897   \n",
      "2                Chennai International Airport     12.990005      80.169296   \n",
      "3             Kempegowda International Airport     13.197900      77.706299   \n",
      "4                    Goa International Airport     15.380800      73.831398   \n",
      "..                                         ...           ...            ...   \n",
      "332                            Shirpur Airport     21.323999      74.956734   \n",
      "333                           Umaria Air Field     23.532514      80.808220   \n",
      "334           Upper Tadong Indian Army Helipad     27.306717      88.599650   \n",
      "335                         Vanasthali Airport     26.407627      75.870128   \n",
      "336                        Vijay Nagar Airport     19.884100      73.840567   \n",
      "\n",
      "     elevation_ft iso_region   municipality  scheduled_service gps_code  \\\n",
      "0           777.0      IN-DL      New Delhi                  1     VIDP   \n",
      "1            39.0      IN-MM         Mumbai                  1     VABB   \n",
      "2            52.0      IN-TN        Chennai                  1     VOMM   \n",
      "3          3000.0      IN-KA      Bangalore                  1     VOBL   \n",
      "4           150.0      IN-GA  Vasco da Gama                  1     VOGO   \n",
      "..            ...        ...            ...                ...      ...   \n",
      "332           NaN      IN-MM        Shirpur                  0      NaN   \n",
      "333        1510.0      IN-MP         Umaria                  0      NaN   \n",
      "334           NaN      IN-SK   Upper Tadong                  0      NaN   \n",
      "335           NaN      IN-RJ     Vanasthali                  0      NaN   \n",
      "336           NaN      IN-MM    Vijay Nagar                  0      NaN   \n",
      "\n",
      "    iata_code local_code  year_built  year_tier Closed  \\\n",
      "0         DEL        NaN      1930.0     1950.0      n   \n",
      "1         BOM        NaN      1942.0     1950.0      n   \n",
      "2         MAA        NaN      1910.0     1950.0      n   \n",
      "3         BLR        NaN      2008.0     2010.0      n   \n",
      "4         GOI        NaN      1955.0     1955.0      n   \n",
      "..        ...        ...         ...        ...    ...   \n",
      "332       NaN        NaN         NaN        NaN      n   \n",
      "333       NaN        NaN         NaN        NaN      n   \n",
      "334       NaN        NaN         NaN        NaN      n   \n",
      "335       NaN        NaN         NaN        NaN      n   \n",
      "336       NaN        NaN         NaN        NaN      n   \n",
      "\n",
      "                                          home_link  \\\n",
      "0                    http://www.newdelhiairport.in/   \n",
      "1                               http://www.csia.in/   \n",
      "2                                               NaN   \n",
      "3    http://www.bengaluruairport.com/home/home.jspx   \n",
      "4                                               NaN   \n",
      "..                                              ...   \n",
      "332                                             NaN   \n",
      "333                                             NaN   \n",
      "334                                             NaN   \n",
      "335                                             NaN   \n",
      "336                                             NaN   \n",
      "\n",
      "                                        wikipedia_link  \\\n",
      "0    http://en.wikipedia.org/wiki/Indira_Gandhi_Int...   \n",
      "1    http://en.wikipedia.org/wiki/Chhatrapati_Shiva...   \n",
      "2    http://en.wikipedia.org/wiki/Chennai_Internati...   \n",
      "3    https://en.wikipedia.org/wiki/Kempegowda_Inter...   \n",
      "4         http://en.wikipedia.org/wiki/Dabolim_Airport   \n",
      "..                                                 ...   \n",
      "332                                                NaN   \n",
      "333                                                NaN   \n",
      "334                                                NaN   \n",
      "335                                                NaN   \n",
      "336                                                NaN   \n",
      "\n",
      "                                              keywords    score  \n",
      "0                              Palam Air Force Station    51475  \n",
      "1                  Bombay, Sahar International Airport  1014475  \n",
      "2                                                  NaN    51150  \n",
      "3                                                  NaN    51200  \n",
      "4    Goa Airport, Dabolim Navy Airbase, ________隷怄_...      875  \n",
      "..                                                 ...      ...  \n",
      "332                                     Shirpur, Dhule        0  \n",
      "333                                                NaN        0  \n",
      "334                                                NaN        0  \n",
      "335                                                NaN        0  \n",
      "336                                                NaN        0  \n",
      "\n",
      "[337 rows x 20 columns]\n"
     ]
    }
   ],
   "source": [
    "print(df)"
   ]
  },
  {
   "cell_type": "code",
   "execution_count": 32,
   "id": "9eb1a16d-5151-4307-8d62-ac61775baccc",
   "metadata": {},
   "outputs": [
    {
     "name": "stdout",
     "output_type": "stream",
     "text": [
      "      id ident           type                                       name  \\\n",
      "0  26555  VIDP  large_airport        Indira Gandhi International Airport   \n",
      "1  26434  VABB  large_airport  Chhatrapati Shivaji International Airport   \n",
      "2  26618  VOMM  large_airport              Chennai International Airport   \n",
      "3  35145  VOBL  large_airport           Kempegowda International Airport   \n",
      "4  26444  VAGO  large_airport                  Goa International Airport   \n",
      "\n",
      "   latitude_deg  longitude_deg  elevation_ft iso_region   municipality  \\\n",
      "0     28.566500      77.103104         777.0      IN-DL      New Delhi   \n",
      "1     19.088699      72.867897          39.0      IN-MM         Mumbai   \n",
      "2     12.990005      80.169296          52.0      IN-TN        Chennai   \n",
      "3     13.197900      77.706299        3000.0      IN-KA      Bangalore   \n",
      "4     15.380800      73.831398         150.0      IN-GA  Vasco da Gama   \n",
      "\n",
      "   scheduled_service gps_code iata_code local_code  year_built  year_tier  \\\n",
      "0                  1     VIDP       DEL        NaN      1930.0     1950.0   \n",
      "1                  1     VABB       BOM        NaN      1942.0     1950.0   \n",
      "2                  1     VOMM       MAA        NaN      1910.0     1950.0   \n",
      "3                  1     VOBL       BLR        NaN      2008.0     2010.0   \n",
      "4                  1     VOGO       GOI        NaN      1955.0     1955.0   \n",
      "\n",
      "  Closed                                       home_link  \\\n",
      "0      n                  http://www.newdelhiairport.in/   \n",
      "1      n                             http://www.csia.in/   \n",
      "2      n                                             NaN   \n",
      "3      n  http://www.bengaluruairport.com/home/home.jspx   \n",
      "4      n                                             NaN   \n",
      "\n",
      "                                      wikipedia_link  \\\n",
      "0  http://en.wikipedia.org/wiki/Indira_Gandhi_Int...   \n",
      "1  http://en.wikipedia.org/wiki/Chhatrapati_Shiva...   \n",
      "2  http://en.wikipedia.org/wiki/Chennai_Internati...   \n",
      "3  https://en.wikipedia.org/wiki/Kempegowda_Inter...   \n",
      "4       http://en.wikipedia.org/wiki/Dabolim_Airport   \n",
      "\n",
      "                                            keywords    score  \n",
      "0                            Palam Air Force Station    51475  \n",
      "1                Bombay, Sahar International Airport  1014475  \n",
      "2                                                NaN    51150  \n",
      "3                                                NaN    51200  \n",
      "4  Goa Airport, Dabolim Navy Airbase, ________隷怄_...      875  \n"
     ]
    }
   ],
   "source": [
    "print(df.head(5))"
   ]
  },
  {
   "cell_type": "code",
   "execution_count": 33,
   "id": "b7b29cc6-521c-4700-aa0f-419ef89f3cf8",
   "metadata": {},
   "outputs": [
    {
     "data": {
      "text/html": [
       "<div>\n",
       "<style scoped>\n",
       "    .dataframe tbody tr th:only-of-type {\n",
       "        vertical-align: middle;\n",
       "    }\n",
       "\n",
       "    .dataframe tbody tr th {\n",
       "        vertical-align: top;\n",
       "    }\n",
       "\n",
       "    .dataframe thead th {\n",
       "        text-align: right;\n",
       "    }\n",
       "</style>\n",
       "<table border=\"1\" class=\"dataframe\">\n",
       "  <thead>\n",
       "    <tr style=\"text-align: right;\">\n",
       "      <th></th>\n",
       "      <th>id</th>\n",
       "      <th>ident</th>\n",
       "      <th>type</th>\n",
       "      <th>name</th>\n",
       "      <th>latitude_deg</th>\n",
       "      <th>longitude_deg</th>\n",
       "      <th>elevation_ft</th>\n",
       "      <th>iso_region</th>\n",
       "      <th>municipality</th>\n",
       "      <th>scheduled_service</th>\n",
       "      <th>gps_code</th>\n",
       "      <th>iata_code</th>\n",
       "      <th>local_code</th>\n",
       "      <th>year_built</th>\n",
       "      <th>year_tier</th>\n",
       "      <th>Closed</th>\n",
       "      <th>home_link</th>\n",
       "      <th>wikipedia_link</th>\n",
       "      <th>keywords</th>\n",
       "      <th>score</th>\n",
       "    </tr>\n",
       "  </thead>\n",
       "  <tbody>\n",
       "    <tr>\n",
       "      <th>0</th>\n",
       "      <td>26555</td>\n",
       "      <td>VIDP</td>\n",
       "      <td>large_airport</td>\n",
       "      <td>Indira Gandhi International Airport</td>\n",
       "      <td>28.566500</td>\n",
       "      <td>77.103104</td>\n",
       "      <td>777.0</td>\n",
       "      <td>IN-DL</td>\n",
       "      <td>New Delhi</td>\n",
       "      <td>1</td>\n",
       "      <td>VIDP</td>\n",
       "      <td>DEL</td>\n",
       "      <td>NaN</td>\n",
       "      <td>1930.0</td>\n",
       "      <td>1950.0</td>\n",
       "      <td>n</td>\n",
       "      <td>http://www.newdelhiairport.in/</td>\n",
       "      <td>http://en.wikipedia.org/wiki/Indira_Gandhi_Int...</td>\n",
       "      <td>Palam Air Force Station</td>\n",
       "      <td>51475</td>\n",
       "    </tr>\n",
       "    <tr>\n",
       "      <th>1</th>\n",
       "      <td>26434</td>\n",
       "      <td>VABB</td>\n",
       "      <td>large_airport</td>\n",
       "      <td>Chhatrapati Shivaji International Airport</td>\n",
       "      <td>19.088699</td>\n",
       "      <td>72.867897</td>\n",
       "      <td>39.0</td>\n",
       "      <td>IN-MM</td>\n",
       "      <td>Mumbai</td>\n",
       "      <td>1</td>\n",
       "      <td>VABB</td>\n",
       "      <td>BOM</td>\n",
       "      <td>NaN</td>\n",
       "      <td>1942.0</td>\n",
       "      <td>1950.0</td>\n",
       "      <td>n</td>\n",
       "      <td>http://www.csia.in/</td>\n",
       "      <td>http://en.wikipedia.org/wiki/Chhatrapati_Shiva...</td>\n",
       "      <td>Bombay, Sahar International Airport</td>\n",
       "      <td>1014475</td>\n",
       "    </tr>\n",
       "  </tbody>\n",
       "</table>\n",
       "</div>"
      ],
      "text/plain": [
       "      id ident           type                                       name  \\\n",
       "0  26555  VIDP  large_airport        Indira Gandhi International Airport   \n",
       "1  26434  VABB  large_airport  Chhatrapati Shivaji International Airport   \n",
       "\n",
       "   latitude_deg  longitude_deg  elevation_ft iso_region municipality  \\\n",
       "0     28.566500      77.103104         777.0      IN-DL    New Delhi   \n",
       "1     19.088699      72.867897          39.0      IN-MM       Mumbai   \n",
       "\n",
       "   scheduled_service gps_code iata_code local_code  year_built  year_tier  \\\n",
       "0                  1     VIDP       DEL        NaN      1930.0     1950.0   \n",
       "1                  1     VABB       BOM        NaN      1942.0     1950.0   \n",
       "\n",
       "  Closed                       home_link  \\\n",
       "0      n  http://www.newdelhiairport.in/   \n",
       "1      n             http://www.csia.in/   \n",
       "\n",
       "                                      wikipedia_link  \\\n",
       "0  http://en.wikipedia.org/wiki/Indira_Gandhi_Int...   \n",
       "1  http://en.wikipedia.org/wiki/Chhatrapati_Shiva...   \n",
       "\n",
       "                              keywords    score  \n",
       "0              Palam Air Force Station    51475  \n",
       "1  Bombay, Sahar International Airport  1014475  "
      ]
     },
     "execution_count": 33,
     "metadata": {},
     "output_type": "execute_result"
    }
   ],
   "source": [
    "df.head(2)"
   ]
  },
  {
   "cell_type": "code",
   "execution_count": 34,
   "id": "8114e2b0-d069-4984-946e-c5e42eadfea6",
   "metadata": {},
   "outputs": [
    {
     "data": {
      "text/html": [
       "<div>\n",
       "<style scoped>\n",
       "    .dataframe tbody tr th:only-of-type {\n",
       "        vertical-align: middle;\n",
       "    }\n",
       "\n",
       "    .dataframe tbody tr th {\n",
       "        vertical-align: top;\n",
       "    }\n",
       "\n",
       "    .dataframe thead th {\n",
       "        text-align: right;\n",
       "    }\n",
       "</style>\n",
       "<table border=\"1\" class=\"dataframe\">\n",
       "  <thead>\n",
       "    <tr style=\"text-align: right;\">\n",
       "      <th></th>\n",
       "      <th>id</th>\n",
       "      <th>ident</th>\n",
       "      <th>type</th>\n",
       "      <th>name</th>\n",
       "      <th>latitude_deg</th>\n",
       "      <th>longitude_deg</th>\n",
       "      <th>elevation_ft</th>\n",
       "      <th>iso_region</th>\n",
       "      <th>municipality</th>\n",
       "      <th>scheduled_service</th>\n",
       "      <th>gps_code</th>\n",
       "      <th>iata_code</th>\n",
       "      <th>local_code</th>\n",
       "      <th>year_built</th>\n",
       "      <th>year_tier</th>\n",
       "      <th>Closed</th>\n",
       "      <th>home_link</th>\n",
       "      <th>wikipedia_link</th>\n",
       "      <th>keywords</th>\n",
       "      <th>score</th>\n",
       "    </tr>\n",
       "  </thead>\n",
       "  <tbody>\n",
       "    <tr>\n",
       "      <th>335</th>\n",
       "      <td>319166</td>\n",
       "      <td>IN-0101</td>\n",
       "      <td>small_airport</td>\n",
       "      <td>Vanasthali Airport</td>\n",
       "      <td>26.407627</td>\n",
       "      <td>75.870128</td>\n",
       "      <td>NaN</td>\n",
       "      <td>IN-RJ</td>\n",
       "      <td>Vanasthali</td>\n",
       "      <td>0</td>\n",
       "      <td>NaN</td>\n",
       "      <td>NaN</td>\n",
       "      <td>NaN</td>\n",
       "      <td>NaN</td>\n",
       "      <td>NaN</td>\n",
       "      <td>n</td>\n",
       "      <td>NaN</td>\n",
       "      <td>NaN</td>\n",
       "      <td>NaN</td>\n",
       "      <td>0</td>\n",
       "    </tr>\n",
       "    <tr>\n",
       "      <th>336</th>\n",
       "      <td>46557</td>\n",
       "      <td>IN-0034</td>\n",
       "      <td>small_airport</td>\n",
       "      <td>Vijay Nagar Airport</td>\n",
       "      <td>19.884100</td>\n",
       "      <td>73.840567</td>\n",
       "      <td>NaN</td>\n",
       "      <td>IN-MM</td>\n",
       "      <td>Vijay Nagar</td>\n",
       "      <td>0</td>\n",
       "      <td>NaN</td>\n",
       "      <td>NaN</td>\n",
       "      <td>NaN</td>\n",
       "      <td>NaN</td>\n",
       "      <td>NaN</td>\n",
       "      <td>n</td>\n",
       "      <td>NaN</td>\n",
       "      <td>NaN</td>\n",
       "      <td>NaN</td>\n",
       "      <td>0</td>\n",
       "    </tr>\n",
       "  </tbody>\n",
       "</table>\n",
       "</div>"
      ],
      "text/plain": [
       "         id    ident           type                 name  latitude_deg  \\\n",
       "335  319166  IN-0101  small_airport   Vanasthali Airport     26.407627   \n",
       "336   46557  IN-0034  small_airport  Vijay Nagar Airport     19.884100   \n",
       "\n",
       "     longitude_deg  elevation_ft iso_region municipality  scheduled_service  \\\n",
       "335      75.870128           NaN      IN-RJ   Vanasthali                  0   \n",
       "336      73.840567           NaN      IN-MM  Vijay Nagar                  0   \n",
       "\n",
       "    gps_code iata_code local_code  year_built  year_tier Closed home_link  \\\n",
       "335      NaN       NaN        NaN         NaN        NaN      n       NaN   \n",
       "336      NaN       NaN        NaN         NaN        NaN      n       NaN   \n",
       "\n",
       "    wikipedia_link keywords  score  \n",
       "335            NaN      NaN      0  \n",
       "336            NaN      NaN      0  "
      ]
     },
     "execution_count": 34,
     "metadata": {},
     "output_type": "execute_result"
    }
   ],
   "source": [
    "df.tail(2)"
   ]
  },
  {
   "cell_type": "code",
   "execution_count": 35,
   "id": "698cb64f-ae75-4962-84fd-d6e21bc538c3",
   "metadata": {},
   "outputs": [
    {
     "name": "stdout",
     "output_type": "stream",
     "text": [
      "<class 'pandas.core.frame.DataFrame'>\n",
      "RangeIndex: 337 entries, 0 to 336\n",
      "Data columns (total 20 columns):\n",
      " #   Column             Non-Null Count  Dtype  \n",
      "---  ------             --------------  -----  \n",
      " 0   id                 337 non-null    int64  \n",
      " 1   ident              337 non-null    object \n",
      " 2   type               337 non-null    object \n",
      " 3   name               337 non-null    object \n",
      " 4   latitude_deg       337 non-null    float64\n",
      " 5   longitude_deg      337 non-null    float64\n",
      " 6   elevation_ft       262 non-null    float64\n",
      " 7   iso_region         337 non-null    object \n",
      " 8   municipality       170 non-null    object \n",
      " 9   scheduled_service  337 non-null    int64  \n",
      " 10  gps_code           232 non-null    object \n",
      " 11  iata_code          132 non-null    object \n",
      " 12  local_code         58 non-null     object \n",
      " 13  year_built         89 non-null     float64\n",
      " 14  year_tier          89 non-null     float64\n",
      " 15  Closed             337 non-null    object \n",
      " 16  home_link          44 non-null     object \n",
      " 17  wikipedia_link     134 non-null    object \n",
      " 18  keywords           91 non-null     object \n",
      " 19  score              337 non-null    int64  \n",
      "dtypes: float64(5), int64(3), object(12)\n",
      "memory usage: 52.8+ KB\n"
     ]
    }
   ],
   "source": [
    "df.info()"
   ]
  },
  {
   "cell_type": "code",
   "execution_count": 36,
   "id": "1012f52f-c21b-4cb7-9639-1cf0e8ae0d05",
   "metadata": {},
   "outputs": [
    {
     "name": "stdout",
     "output_type": "stream",
     "text": [
      "<class 'pandas.core.frame.DataFrame'>\n",
      "RangeIndex: 337 entries, 0 to 336\n",
      "Data columns (total 20 columns):\n",
      " #   Column             Non-Null Count  Dtype  \n",
      "---  ------             --------------  -----  \n",
      " 0   id                 337 non-null    int64  \n",
      " 1   ident              337 non-null    object \n",
      " 2   type               337 non-null    object \n",
      " 3   name               337 non-null    object \n",
      " 4   latitude_deg       337 non-null    float64\n",
      " 5   longitude_deg      337 non-null    float64\n",
      " 6   elevation_ft       262 non-null    float64\n",
      " 7   iso_region         337 non-null    object \n",
      " 8   municipality       170 non-null    object \n",
      " 9   scheduled_service  337 non-null    int64  \n",
      " 10  gps_code           232 non-null    object \n",
      " 11  iata_code          132 non-null    object \n",
      " 12  local_code         58 non-null     object \n",
      " 13  year_built         89 non-null     float64\n",
      " 14  year_tier          89 non-null     float64\n",
      " 15  Closed             337 non-null    object \n",
      " 16  home_link          44 non-null     object \n",
      " 17  wikipedia_link     134 non-null    object \n",
      " 18  keywords           91 non-null     object \n",
      " 19  score              337 non-null    int64  \n",
      "dtypes: float64(5), int64(3), object(12)\n",
      "memory usage: 52.8+ KB\n",
      "None\n"
     ]
    }
   ],
   "source": [
    "print(df.info())"
   ]
  },
  {
   "cell_type": "code",
   "execution_count": 37,
   "id": "aa9791bf-c16a-4f3b-ad7c-7913e802fec1",
   "metadata": {},
   "outputs": [
    {
     "data": {
      "text/html": [
       "<div>\n",
       "<style scoped>\n",
       "    .dataframe tbody tr th:only-of-type {\n",
       "        vertical-align: middle;\n",
       "    }\n",
       "\n",
       "    .dataframe tbody tr th {\n",
       "        vertical-align: top;\n",
       "    }\n",
       "\n",
       "    .dataframe thead th {\n",
       "        text-align: right;\n",
       "    }\n",
       "</style>\n",
       "<table border=\"1\" class=\"dataframe\">\n",
       "  <thead>\n",
       "    <tr style=\"text-align: right;\">\n",
       "      <th></th>\n",
       "      <th>id</th>\n",
       "      <th>latitude_deg</th>\n",
       "      <th>longitude_deg</th>\n",
       "      <th>elevation_ft</th>\n",
       "      <th>scheduled_service</th>\n",
       "      <th>year_built</th>\n",
       "      <th>year_tier</th>\n",
       "      <th>score</th>\n",
       "    </tr>\n",
       "  </thead>\n",
       "  <tbody>\n",
       "    <tr>\n",
       "      <th>count</th>\n",
       "      <td>337.000000</td>\n",
       "      <td>337.000000</td>\n",
       "      <td>337.000000</td>\n",
       "      <td>262.000000</td>\n",
       "      <td>337.000000</td>\n",
       "      <td>89.000000</td>\n",
       "      <td>89.000000</td>\n",
       "      <td>3.370000e+02</td>\n",
       "    </tr>\n",
       "    <tr>\n",
       "      <th>mean</th>\n",
       "      <td>62662.946588</td>\n",
       "      <td>22.826837</td>\n",
       "      <td>80.861196</td>\n",
       "      <td>1448.362595</td>\n",
       "      <td>0.249258</td>\n",
       "      <td>1962.033708</td>\n",
       "      <td>1968.494382</td>\n",
       "      <td>3.685760e+03</td>\n",
       "    </tr>\n",
       "    <tr>\n",
       "      <th>std</th>\n",
       "      <td>94991.519843</td>\n",
       "      <td>6.128305</td>\n",
       "      <td>8.189304</td>\n",
       "      <td>2454.905728</td>\n",
       "      <td>0.433227</td>\n",
       "      <td>27.391708</td>\n",
       "      <td>22.777642</td>\n",
       "      <td>5.543450e+04</td>\n",
       "    </tr>\n",
       "    <tr>\n",
       "      <th>min</th>\n",
       "      <td>3283.000000</td>\n",
       "      <td>0.000000</td>\n",
       "      <td>0.000000</td>\n",
       "      <td>5.000000</td>\n",
       "      <td>0.000000</td>\n",
       "      <td>1910.000000</td>\n",
       "      <td>1950.000000</td>\n",
       "      <td>0.000000e+00</td>\n",
       "    </tr>\n",
       "    <tr>\n",
       "      <th>25%</th>\n",
       "      <td>26457.000000</td>\n",
       "      <td>19.719444</td>\n",
       "      <td>75.845596</td>\n",
       "      <td>310.250000</td>\n",
       "      <td>0.000000</td>\n",
       "      <td>1942.000000</td>\n",
       "      <td>1950.000000</td>\n",
       "      <td>0.000000e+00</td>\n",
       "    </tr>\n",
       "    <tr>\n",
       "      <th>50%</th>\n",
       "      <td>26578.000000</td>\n",
       "      <td>23.631500</td>\n",
       "      <td>78.971497</td>\n",
       "      <td>760.000000</td>\n",
       "      <td>0.000000</td>\n",
       "      <td>1951.000000</td>\n",
       "      <td>1955.000000</td>\n",
       "      <td>5.000000e+01</td>\n",
       "    </tr>\n",
       "    <tr>\n",
       "      <th>75%</th>\n",
       "      <td>46481.000000</td>\n",
       "      <td>26.888700</td>\n",
       "      <td>86.706944</td>\n",
       "      <td>1684.750000</td>\n",
       "      <td>0.000000</td>\n",
       "      <td>1987.000000</td>\n",
       "      <td>1990.000000</td>\n",
       "      <td>2.500000e+02</td>\n",
       "    </tr>\n",
       "    <tr>\n",
       "      <th>max</th>\n",
       "      <td>325010.000000</td>\n",
       "      <td>35.500000</td>\n",
       "      <td>97.019661</td>\n",
       "      <td>22000.000000</td>\n",
       "      <td>1.000000</td>\n",
       "      <td>2018.000000</td>\n",
       "      <td>2018.000000</td>\n",
       "      <td>1.014475e+06</td>\n",
       "    </tr>\n",
       "  </tbody>\n",
       "</table>\n",
       "</div>"
      ],
      "text/plain": [
       "                  id  latitude_deg  longitude_deg  elevation_ft  \\\n",
       "count     337.000000    337.000000     337.000000    262.000000   \n",
       "mean    62662.946588     22.826837      80.861196   1448.362595   \n",
       "std     94991.519843      6.128305       8.189304   2454.905728   \n",
       "min      3283.000000      0.000000       0.000000      5.000000   \n",
       "25%     26457.000000     19.719444      75.845596    310.250000   \n",
       "50%     26578.000000     23.631500      78.971497    760.000000   \n",
       "75%     46481.000000     26.888700      86.706944   1684.750000   \n",
       "max    325010.000000     35.500000      97.019661  22000.000000   \n",
       "\n",
       "       scheduled_service   year_built    year_tier         score  \n",
       "count         337.000000    89.000000    89.000000  3.370000e+02  \n",
       "mean            0.249258  1962.033708  1968.494382  3.685760e+03  \n",
       "std             0.433227    27.391708    22.777642  5.543450e+04  \n",
       "min             0.000000  1910.000000  1950.000000  0.000000e+00  \n",
       "25%             0.000000  1942.000000  1950.000000  0.000000e+00  \n",
       "50%             0.000000  1951.000000  1955.000000  5.000000e+01  \n",
       "75%             0.000000  1987.000000  1990.000000  2.500000e+02  \n",
       "max             1.000000  2018.000000  2018.000000  1.014475e+06  "
      ]
     },
     "execution_count": 37,
     "metadata": {},
     "output_type": "execute_result"
    }
   ],
   "source": [
    "df.describe()"
   ]
  },
  {
   "cell_type": "code",
   "execution_count": 38,
   "id": "42f42862-1307-46b1-be11-cd8ec8892a76",
   "metadata": {},
   "outputs": [
    {
     "data": {
      "text/html": [
       "<div>\n",
       "<style scoped>\n",
       "    .dataframe tbody tr th:only-of-type {\n",
       "        vertical-align: middle;\n",
       "    }\n",
       "\n",
       "    .dataframe tbody tr th {\n",
       "        vertical-align: top;\n",
       "    }\n",
       "\n",
       "    .dataframe thead th {\n",
       "        text-align: right;\n",
       "    }\n",
       "</style>\n",
       "<table border=\"1\" class=\"dataframe\">\n",
       "  <thead>\n",
       "    <tr style=\"text-align: right;\">\n",
       "      <th></th>\n",
       "      <th>id</th>\n",
       "      <th>ident</th>\n",
       "      <th>type</th>\n",
       "      <th>name</th>\n",
       "      <th>latitude_deg</th>\n",
       "      <th>longitude_deg</th>\n",
       "      <th>elevation_ft</th>\n",
       "      <th>iso_region</th>\n",
       "      <th>municipality</th>\n",
       "      <th>scheduled_service</th>\n",
       "      <th>gps_code</th>\n",
       "      <th>iata_code</th>\n",
       "      <th>local_code</th>\n",
       "      <th>year_built</th>\n",
       "      <th>year_tier</th>\n",
       "      <th>Closed</th>\n",
       "      <th>home_link</th>\n",
       "      <th>wikipedia_link</th>\n",
       "      <th>keywords</th>\n",
       "      <th>score</th>\n",
       "    </tr>\n",
       "  </thead>\n",
       "  <tbody>\n",
       "    <tr>\n",
       "      <th>0</th>\n",
       "      <td>26555</td>\n",
       "      <td>VIDP</td>\n",
       "      <td>large_airport</td>\n",
       "      <td>Indira Gandhi International Airport</td>\n",
       "      <td>28.566500</td>\n",
       "      <td>77.103104</td>\n",
       "      <td>777.0</td>\n",
       "      <td>IN-DL</td>\n",
       "      <td>New Delhi</td>\n",
       "      <td>1</td>\n",
       "      <td>VIDP</td>\n",
       "      <td>DEL</td>\n",
       "      <td>NaN</td>\n",
       "      <td>1930.0</td>\n",
       "      <td>1950.0</td>\n",
       "      <td>n</td>\n",
       "      <td>http://www.newdelhiairport.in/</td>\n",
       "      <td>http://en.wikipedia.org/wiki/Indira_Gandhi_Int...</td>\n",
       "      <td>Palam Air Force Station</td>\n",
       "      <td>51475</td>\n",
       "    </tr>\n",
       "    <tr>\n",
       "      <th>1</th>\n",
       "      <td>26434</td>\n",
       "      <td>VABB</td>\n",
       "      <td>large_airport</td>\n",
       "      <td>Chhatrapati Shivaji International Airport</td>\n",
       "      <td>19.088699</td>\n",
       "      <td>72.867897</td>\n",
       "      <td>39.0</td>\n",
       "      <td>IN-MM</td>\n",
       "      <td>Mumbai</td>\n",
       "      <td>1</td>\n",
       "      <td>VABB</td>\n",
       "      <td>BOM</td>\n",
       "      <td>NaN</td>\n",
       "      <td>1942.0</td>\n",
       "      <td>1950.0</td>\n",
       "      <td>n</td>\n",
       "      <td>http://www.csia.in/</td>\n",
       "      <td>http://en.wikipedia.org/wiki/Chhatrapati_Shiva...</td>\n",
       "      <td>Bombay, Sahar International Airport</td>\n",
       "      <td>1014475</td>\n",
       "    </tr>\n",
       "    <tr>\n",
       "      <th>2</th>\n",
       "      <td>26618</td>\n",
       "      <td>VOMM</td>\n",
       "      <td>large_airport</td>\n",
       "      <td>Chennai International Airport</td>\n",
       "      <td>12.990005</td>\n",
       "      <td>80.169296</td>\n",
       "      <td>52.0</td>\n",
       "      <td>IN-TN</td>\n",
       "      <td>Chennai</td>\n",
       "      <td>1</td>\n",
       "      <td>VOMM</td>\n",
       "      <td>MAA</td>\n",
       "      <td>NaN</td>\n",
       "      <td>1910.0</td>\n",
       "      <td>1950.0</td>\n",
       "      <td>n</td>\n",
       "      <td>NaN</td>\n",
       "      <td>http://en.wikipedia.org/wiki/Chennai_Internati...</td>\n",
       "      <td>NaN</td>\n",
       "      <td>51150</td>\n",
       "    </tr>\n",
       "    <tr>\n",
       "      <th>3</th>\n",
       "      <td>35145</td>\n",
       "      <td>VOBL</td>\n",
       "      <td>large_airport</td>\n",
       "      <td>Kempegowda International Airport</td>\n",
       "      <td>13.197900</td>\n",
       "      <td>77.706299</td>\n",
       "      <td>3000.0</td>\n",
       "      <td>IN-KA</td>\n",
       "      <td>Bangalore</td>\n",
       "      <td>1</td>\n",
       "      <td>VOBL</td>\n",
       "      <td>BLR</td>\n",
       "      <td>NaN</td>\n",
       "      <td>2008.0</td>\n",
       "      <td>2010.0</td>\n",
       "      <td>n</td>\n",
       "      <td>http://www.bengaluruairport.com/home/home.jspx</td>\n",
       "      <td>https://en.wikipedia.org/wiki/Kempegowda_Inter...</td>\n",
       "      <td>NaN</td>\n",
       "      <td>51200</td>\n",
       "    </tr>\n",
       "    <tr>\n",
       "      <th>4</th>\n",
       "      <td>26444</td>\n",
       "      <td>VAGO</td>\n",
       "      <td>large_airport</td>\n",
       "      <td>Goa International Airport</td>\n",
       "      <td>15.380800</td>\n",
       "      <td>73.831398</td>\n",
       "      <td>150.0</td>\n",
       "      <td>IN-GA</td>\n",
       "      <td>Vasco da Gama</td>\n",
       "      <td>1</td>\n",
       "      <td>VOGO</td>\n",
       "      <td>GOI</td>\n",
       "      <td>NaN</td>\n",
       "      <td>1955.0</td>\n",
       "      <td>1955.0</td>\n",
       "      <td>n</td>\n",
       "      <td>NaN</td>\n",
       "      <td>http://en.wikipedia.org/wiki/Dabolim_Airport</td>\n",
       "      <td>Goa Airport, Dabolim Navy Airbase, ________隷怄_...</td>\n",
       "      <td>875</td>\n",
       "    </tr>\n",
       "  </tbody>\n",
       "</table>\n",
       "</div>"
      ],
      "text/plain": [
       "      id ident           type                                       name  \\\n",
       "0  26555  VIDP  large_airport        Indira Gandhi International Airport   \n",
       "1  26434  VABB  large_airport  Chhatrapati Shivaji International Airport   \n",
       "2  26618  VOMM  large_airport              Chennai International Airport   \n",
       "3  35145  VOBL  large_airport           Kempegowda International Airport   \n",
       "4  26444  VAGO  large_airport                  Goa International Airport   \n",
       "\n",
       "   latitude_deg  longitude_deg  elevation_ft iso_region   municipality  \\\n",
       "0     28.566500      77.103104         777.0      IN-DL      New Delhi   \n",
       "1     19.088699      72.867897          39.0      IN-MM         Mumbai   \n",
       "2     12.990005      80.169296          52.0      IN-TN        Chennai   \n",
       "3     13.197900      77.706299        3000.0      IN-KA      Bangalore   \n",
       "4     15.380800      73.831398         150.0      IN-GA  Vasco da Gama   \n",
       "\n",
       "   scheduled_service gps_code iata_code local_code  year_built  year_tier  \\\n",
       "0                  1     VIDP       DEL        NaN      1930.0     1950.0   \n",
       "1                  1     VABB       BOM        NaN      1942.0     1950.0   \n",
       "2                  1     VOMM       MAA        NaN      1910.0     1950.0   \n",
       "3                  1     VOBL       BLR        NaN      2008.0     2010.0   \n",
       "4                  1     VOGO       GOI        NaN      1955.0     1955.0   \n",
       "\n",
       "  Closed                                       home_link  \\\n",
       "0      n                  http://www.newdelhiairport.in/   \n",
       "1      n                             http://www.csia.in/   \n",
       "2      n                                             NaN   \n",
       "3      n  http://www.bengaluruairport.com/home/home.jspx   \n",
       "4      n                                             NaN   \n",
       "\n",
       "                                      wikipedia_link  \\\n",
       "0  http://en.wikipedia.org/wiki/Indira_Gandhi_Int...   \n",
       "1  http://en.wikipedia.org/wiki/Chhatrapati_Shiva...   \n",
       "2  http://en.wikipedia.org/wiki/Chennai_Internati...   \n",
       "3  https://en.wikipedia.org/wiki/Kempegowda_Inter...   \n",
       "4       http://en.wikipedia.org/wiki/Dabolim_Airport   \n",
       "\n",
       "                                            keywords    score  \n",
       "0                            Palam Air Force Station    51475  \n",
       "1                Bombay, Sahar International Airport  1014475  \n",
       "2                                                NaN    51150  \n",
       "3                                                NaN    51200  \n",
       "4  Goa Airport, Dabolim Navy Airbase, ________隷怄_...      875  "
      ]
     },
     "execution_count": 38,
     "metadata": {},
     "output_type": "execute_result"
    }
   ],
   "source": [
    "    df.head()"
   ]
  },
  {
   "cell_type": "code",
   "execution_count": 39,
   "id": "b60392a7-d6a4-4a08-a50a-efa7157bae7d",
   "metadata": {},
   "outputs": [
    {
     "data": {
      "text/html": [
       "<div>\n",
       "<style scoped>\n",
       "    .dataframe tbody tr th:only-of-type {\n",
       "        vertical-align: middle;\n",
       "    }\n",
       "\n",
       "    .dataframe tbody tr th {\n",
       "        vertical-align: top;\n",
       "    }\n",
       "\n",
       "    .dataframe thead th {\n",
       "        text-align: right;\n",
       "    }\n",
       "</style>\n",
       "<table border=\"1\" class=\"dataframe\">\n",
       "  <thead>\n",
       "    <tr style=\"text-align: right;\">\n",
       "      <th></th>\n",
       "      <th>id</th>\n",
       "      <th>ident</th>\n",
       "      <th>type</th>\n",
       "      <th>name</th>\n",
       "      <th>latitude_deg</th>\n",
       "      <th>longitude_deg</th>\n",
       "      <th>elevation_ft</th>\n",
       "      <th>iso_region</th>\n",
       "      <th>municipality</th>\n",
       "      <th>scheduled_service</th>\n",
       "      <th>gps_code</th>\n",
       "      <th>iata_code</th>\n",
       "      <th>local_code</th>\n",
       "      <th>year_built</th>\n",
       "      <th>year_tier</th>\n",
       "      <th>Closed</th>\n",
       "      <th>home_link</th>\n",
       "      <th>wikipedia_link</th>\n",
       "      <th>keywords</th>\n",
       "      <th>score</th>\n",
       "    </tr>\n",
       "  </thead>\n",
       "  <tbody>\n",
       "    <tr>\n",
       "      <th>330</th>\n",
       "      <td>46553</td>\n",
       "      <td>IN-0030</td>\n",
       "      <td>heliport</td>\n",
       "      <td>Serchhip Helipad</td>\n",
       "      <td>23.328750</td>\n",
       "      <td>92.856067</td>\n",
       "      <td>NaN</td>\n",
       "      <td>IN-MZ</td>\n",
       "      <td>Serchhip</td>\n",
       "      <td>0</td>\n",
       "      <td>NaN</td>\n",
       "      <td>NaN</td>\n",
       "      <td>NaN</td>\n",
       "      <td>NaN</td>\n",
       "      <td>NaN</td>\n",
       "      <td>n</td>\n",
       "      <td>NaN</td>\n",
       "      <td>NaN</td>\n",
       "      <td>NaN</td>\n",
       "      <td>0</td>\n",
       "    </tr>\n",
       "    <tr>\n",
       "      <th>331</th>\n",
       "      <td>46565</td>\n",
       "      <td>IN-0042</td>\n",
       "      <td>heliport</td>\n",
       "      <td>Shillong Indian Army Helipad</td>\n",
       "      <td>25.544250</td>\n",
       "      <td>91.881717</td>\n",
       "      <td>NaN</td>\n",
       "      <td>IN-ML</td>\n",
       "      <td>Shillong</td>\n",
       "      <td>0</td>\n",
       "      <td>NaN</td>\n",
       "      <td>NaN</td>\n",
       "      <td>NaN</td>\n",
       "      <td>NaN</td>\n",
       "      <td>NaN</td>\n",
       "      <td>n</td>\n",
       "      <td>NaN</td>\n",
       "      <td>NaN</td>\n",
       "      <td>NaN</td>\n",
       "      <td>0</td>\n",
       "    </tr>\n",
       "    <tr>\n",
       "      <th>332</th>\n",
       "      <td>46625</td>\n",
       "      <td>IN-0062</td>\n",
       "      <td>small_airport</td>\n",
       "      <td>Shirpur Airport</td>\n",
       "      <td>21.323999</td>\n",
       "      <td>74.956734</td>\n",
       "      <td>NaN</td>\n",
       "      <td>IN-MM</td>\n",
       "      <td>Shirpur</td>\n",
       "      <td>0</td>\n",
       "      <td>NaN</td>\n",
       "      <td>NaN</td>\n",
       "      <td>NaN</td>\n",
       "      <td>NaN</td>\n",
       "      <td>NaN</td>\n",
       "      <td>n</td>\n",
       "      <td>NaN</td>\n",
       "      <td>NaN</td>\n",
       "      <td>Shirpur, Dhule</td>\n",
       "      <td>0</td>\n",
       "    </tr>\n",
       "    <tr>\n",
       "      <th>333</th>\n",
       "      <td>46640</td>\n",
       "      <td>IN-0064</td>\n",
       "      <td>small_airport</td>\n",
       "      <td>Umaria Air Field</td>\n",
       "      <td>23.532514</td>\n",
       "      <td>80.808220</td>\n",
       "      <td>1510.0</td>\n",
       "      <td>IN-MP</td>\n",
       "      <td>Umaria</td>\n",
       "      <td>0</td>\n",
       "      <td>NaN</td>\n",
       "      <td>NaN</td>\n",
       "      <td>NaN</td>\n",
       "      <td>NaN</td>\n",
       "      <td>NaN</td>\n",
       "      <td>n</td>\n",
       "      <td>NaN</td>\n",
       "      <td>NaN</td>\n",
       "      <td>NaN</td>\n",
       "      <td>0</td>\n",
       "    </tr>\n",
       "    <tr>\n",
       "      <th>334</th>\n",
       "      <td>46561</td>\n",
       "      <td>IN-0038</td>\n",
       "      <td>heliport</td>\n",
       "      <td>Upper Tadong Indian Army Helipad</td>\n",
       "      <td>27.306717</td>\n",
       "      <td>88.599650</td>\n",
       "      <td>NaN</td>\n",
       "      <td>IN-SK</td>\n",
       "      <td>Upper Tadong</td>\n",
       "      <td>0</td>\n",
       "      <td>NaN</td>\n",
       "      <td>NaN</td>\n",
       "      <td>NaN</td>\n",
       "      <td>NaN</td>\n",
       "      <td>NaN</td>\n",
       "      <td>n</td>\n",
       "      <td>NaN</td>\n",
       "      <td>NaN</td>\n",
       "      <td>NaN</td>\n",
       "      <td>0</td>\n",
       "    </tr>\n",
       "    <tr>\n",
       "      <th>335</th>\n",
       "      <td>319166</td>\n",
       "      <td>IN-0101</td>\n",
       "      <td>small_airport</td>\n",
       "      <td>Vanasthali Airport</td>\n",
       "      <td>26.407627</td>\n",
       "      <td>75.870128</td>\n",
       "      <td>NaN</td>\n",
       "      <td>IN-RJ</td>\n",
       "      <td>Vanasthali</td>\n",
       "      <td>0</td>\n",
       "      <td>NaN</td>\n",
       "      <td>NaN</td>\n",
       "      <td>NaN</td>\n",
       "      <td>NaN</td>\n",
       "      <td>NaN</td>\n",
       "      <td>n</td>\n",
       "      <td>NaN</td>\n",
       "      <td>NaN</td>\n",
       "      <td>NaN</td>\n",
       "      <td>0</td>\n",
       "    </tr>\n",
       "    <tr>\n",
       "      <th>336</th>\n",
       "      <td>46557</td>\n",
       "      <td>IN-0034</td>\n",
       "      <td>small_airport</td>\n",
       "      <td>Vijay Nagar Airport</td>\n",
       "      <td>19.884100</td>\n",
       "      <td>73.840567</td>\n",
       "      <td>NaN</td>\n",
       "      <td>IN-MM</td>\n",
       "      <td>Vijay Nagar</td>\n",
       "      <td>0</td>\n",
       "      <td>NaN</td>\n",
       "      <td>NaN</td>\n",
       "      <td>NaN</td>\n",
       "      <td>NaN</td>\n",
       "      <td>NaN</td>\n",
       "      <td>n</td>\n",
       "      <td>NaN</td>\n",
       "      <td>NaN</td>\n",
       "      <td>NaN</td>\n",
       "      <td>0</td>\n",
       "    </tr>\n",
       "  </tbody>\n",
       "</table>\n",
       "</div>"
      ],
      "text/plain": [
       "         id    ident           type                              name  \\\n",
       "330   46553  IN-0030       heliport                  Serchhip Helipad   \n",
       "331   46565  IN-0042       heliport      Shillong Indian Army Helipad   \n",
       "332   46625  IN-0062  small_airport                   Shirpur Airport   \n",
       "333   46640  IN-0064  small_airport                  Umaria Air Field   \n",
       "334   46561  IN-0038       heliport  Upper Tadong Indian Army Helipad   \n",
       "335  319166  IN-0101  small_airport                Vanasthali Airport   \n",
       "336   46557  IN-0034  small_airport               Vijay Nagar Airport   \n",
       "\n",
       "     latitude_deg  longitude_deg  elevation_ft iso_region  municipality  \\\n",
       "330     23.328750      92.856067           NaN      IN-MZ      Serchhip   \n",
       "331     25.544250      91.881717           NaN      IN-ML      Shillong   \n",
       "332     21.323999      74.956734           NaN      IN-MM       Shirpur   \n",
       "333     23.532514      80.808220        1510.0      IN-MP        Umaria   \n",
       "334     27.306717      88.599650           NaN      IN-SK  Upper Tadong   \n",
       "335     26.407627      75.870128           NaN      IN-RJ    Vanasthali   \n",
       "336     19.884100      73.840567           NaN      IN-MM   Vijay Nagar   \n",
       "\n",
       "     scheduled_service gps_code iata_code local_code  year_built  year_tier  \\\n",
       "330                  0      NaN       NaN        NaN         NaN        NaN   \n",
       "331                  0      NaN       NaN        NaN         NaN        NaN   \n",
       "332                  0      NaN       NaN        NaN         NaN        NaN   \n",
       "333                  0      NaN       NaN        NaN         NaN        NaN   \n",
       "334                  0      NaN       NaN        NaN         NaN        NaN   \n",
       "335                  0      NaN       NaN        NaN         NaN        NaN   \n",
       "336                  0      NaN       NaN        NaN         NaN        NaN   \n",
       "\n",
       "    Closed home_link wikipedia_link        keywords  score  \n",
       "330      n       NaN            NaN             NaN      0  \n",
       "331      n       NaN            NaN             NaN      0  \n",
       "332      n       NaN            NaN  Shirpur, Dhule      0  \n",
       "333      n       NaN            NaN             NaN      0  \n",
       "334      n       NaN            NaN             NaN      0  \n",
       "335      n       NaN            NaN             NaN      0  \n",
       "336      n       NaN            NaN             NaN      0  "
      ]
     },
     "execution_count": 39,
     "metadata": {},
     "output_type": "execute_result"
    }
   ],
   "source": [
    "df.tail(7)"
   ]
  },
  {
   "cell_type": "markdown",
   "id": "76327409-58ba-4184-bd97-ac26950aea2f",
   "metadata": {},
   "source": [
    "# Matplotlob"
   ]
  },
  {
   "cell_type": "code",
   "execution_count": 40,
   "id": "1619a18a-31b9-4786-b618-a1913028bc8a",
   "metadata": {},
   "outputs": [
    {
     "name": "stdout",
     "output_type": "stream",
     "text": [
      "Collecting matplotlib\n",
      "  Downloading matplotlib-3.9.3-cp313-cp313-win_amd64.whl.metadata (11 kB)\n",
      "Collecting contourpy>=1.0.1 (from matplotlib)\n",
      "  Downloading contourpy-1.3.1-cp313-cp313-win_amd64.whl.metadata (5.4 kB)\n",
      "Collecting cycler>=0.10 (from matplotlib)\n",
      "  Downloading cycler-0.12.1-py3-none-any.whl.metadata (3.8 kB)\n",
      "Collecting fonttools>=4.22.0 (from matplotlib)\n",
      "  Downloading fonttools-4.55.3-cp313-cp313-win_amd64.whl.metadata (168 kB)\n",
      "Collecting kiwisolver>=1.3.1 (from matplotlib)\n",
      "  Downloading kiwisolver-1.4.7-cp313-cp313-win_amd64.whl.metadata (6.4 kB)\n",
      "Requirement already satisfied: numpy>=1.23 in c:\\users\\lenovo\\appdata\\local\\programs\\python\\python313\\lib\\site-packages (from matplotlib) (2.2.0)\n",
      "Requirement already satisfied: packaging>=20.0 in c:\\users\\lenovo\\appdata\\local\\programs\\python\\python313\\lib\\site-packages (from matplotlib) (24.2)\n",
      "Collecting pillow>=8 (from matplotlib)\n",
      "  Downloading pillow-11.0.0-cp313-cp313-win_amd64.whl.metadata (9.3 kB)\n",
      "Collecting pyparsing>=2.3.1 (from matplotlib)\n",
      "  Downloading pyparsing-3.2.0-py3-none-any.whl.metadata (5.0 kB)\n",
      "Requirement already satisfied: python-dateutil>=2.7 in c:\\users\\lenovo\\appdata\\local\\programs\\python\\python313\\lib\\site-packages (from matplotlib) (2.9.0.post0)\n",
      "Requirement already satisfied: six>=1.5 in c:\\users\\lenovo\\appdata\\local\\programs\\python\\python313\\lib\\site-packages (from python-dateutil>=2.7->matplotlib) (1.17.0)\n",
      "Downloading matplotlib-3.9.3-cp313-cp313-win_amd64.whl (7.8 MB)\n",
      "   ---------------------------------------- 0.0/7.8 MB ? eta -:--:--\n",
      "   ------------ --------------------------- 2.4/7.8 MB 11.7 MB/s eta 0:00:01\n",
      "   ------------------------- -------------- 5.0/7.8 MB 11.6 MB/s eta 0:00:01\n",
      "   ------------------------------------ --- 7.1/7.8 MB 11.8 MB/s eta 0:00:01\n",
      "   ---------------------------------------- 7.8/7.8 MB 11.3 MB/s eta 0:00:00\n",
      "Downloading contourpy-1.3.1-cp313-cp313-win_amd64.whl (220 kB)\n",
      "Downloading cycler-0.12.1-py3-none-any.whl (8.3 kB)\n",
      "Downloading fonttools-4.55.3-cp313-cp313-win_amd64.whl (2.2 MB)\n",
      "   ---------------------------------------- 0.0/2.2 MB ? eta -:--:--\n",
      "   ---------------------------------------- 2.2/2.2 MB 9.6 MB/s eta 0:00:00\n",
      "Downloading kiwisolver-1.4.7-cp313-cp313-win_amd64.whl (55 kB)\n",
      "Downloading pillow-11.0.0-cp313-cp313-win_amd64.whl (2.6 MB)\n",
      "   ---------------------------------------- 0.0/2.6 MB ? eta -:--:--\n",
      "   ------------------------------------ --- 2.4/2.6 MB 10.6 MB/s eta 0:00:01\n",
      "   ---------------------------------------- 2.6/2.6 MB 9.9 MB/s eta 0:00:00\n",
      "Downloading pyparsing-3.2.0-py3-none-any.whl (106 kB)\n",
      "Installing collected packages: pyparsing, pillow, kiwisolver, fonttools, cycler, contourpy, matplotlib\n",
      "Successfully installed contourpy-1.3.1 cycler-0.12.1 fonttools-4.55.3 kiwisolver-1.4.7 matplotlib-3.9.3 pillow-11.0.0 pyparsing-3.2.0\n"
     ]
    }
   ],
   "source": [
    "!pip install matplotlib"
   ]
  },
  {
   "cell_type": "code",
   "execution_count": 41,
   "id": "789af555-5bf6-4222-bf52-4d014f824ff4",
   "metadata": {},
   "outputs": [],
   "source": [
    "import matplotlib.pyplot as plt"
   ]
  },
  {
   "cell_type": "code",
   "execution_count": 42,
   "id": "dea96594-7732-4f61-938b-148409953c7e",
   "metadata": {},
   "outputs": [],
   "source": [
    "import numpy as np"
   ]
  },
  {
   "cell_type": "code",
   "execution_count": 43,
   "id": "3168ceac-3362-4bca-b7e9-9086948b7634",
   "metadata": {},
   "outputs": [],
   "source": [
    "x=np.array([0,6])\n",
    "y=np.array([0,80])"
   ]
  },
  {
   "cell_type": "code",
   "execution_count": 45,
   "id": "d893b605-9eb4-43bb-9f29-39466d1e9c86",
   "metadata": {},
   "outputs": [
    {
     "data": {
      "image/png": "[encoded data removed]",
      "text/plain": [
       "<Figure size 640x480 with 1 Axes>"
      ]
     },
     "metadata": {},
     "output_type": "display_data"
    }
   ],
   "source": [
    "plt.plot(x,y)\n",
    "plt.show()"
   ]
  },
  {
   "cell_type": "markdown",
   "id": "12a69d29-67a3-45f3-b005-0289ea533d09",
   "metadata": {},
   "source": [
    "## Line Chart"
   ]
  },
  {
   "cell_type": "code",
   "execution_count": 48,
   "id": "8a43a9b6-5aa3-4795-81ce-e44affa9cc2b",
   "metadata": {},
   "outputs": [],
   "source": [
    "points=np.array([4,7,2,10,13])"
   ]
  },
  {
   "cell_type": "code",
   "execution_count": 51,
   "id": "f1b0f7df-5e3e-4ce5-b51f-4808152fcb2a",
   "metadata": {},
   "outputs": [
    {
     "data": {
      "image/png": "[encoded data removed]",
      "text/plain": [
       "<Figure size 640x480 with 1 Axes>"
      ]
     },
     "metadata": {},
     "output_type": "display_data"
    }
   ],
   "source": [
    "plt.plot(points)\n",
    "plt.show()"
   ]
  },
  {
   "cell_type": "markdown",
   "id": "a5732481-739f-42ac-8169-86ec2b9b6a65",
   "metadata": {},
   "source": [
    "## dotted line"
   ]
  },
  {
   "cell_type": "code",
   "execution_count": 53,
   "id": "d85318fe-6496-455c-af4e-2549801a5f1c",
   "metadata": {},
   "outputs": [
    {
     "data": {
      "image/png": "[encoded data removed]",
      "text/plain": [
       "<Figure size 640x480 with 1 Axes>"
      ]
     },
     "metadata": {},
     "output_type": "display_data"
    }
   ],
   "source": [
    "a2=np.array([1,2,3,4,5,6])\n",
    "plt.plot(a2,linestyle='dotted')\n",
    "plt.show()"
   ]
  },
  {
   "cell_type": "markdown",
   "id": "2322f45b-bf0e-4b65-9cf1-55478302a467",
   "metadata": {},
   "source": [
    "## dashed line"
   ]
  },
  {
   "cell_type": "code",
   "execution_count": 54,
   "id": "88b983c6-4128-4244-9049-5d88fd527d5d",
   "metadata": {},
   "outputs": [
    {
     "data": {
      "image/png": "[encoded data removed]",
      "text/plain": [
       "<Figure size 640x480 with 1 Axes>"
      ]
     },
     "metadata": {},
     "output_type": "display_data"
    }
   ],
   "source": [
    "a2=np.array([1,2,3,4,5,6])\n",
    "plt.plot(a2,linestyle='dashed')\n",
    "plt.show()"
   ]
  },
  {
   "cell_type": "markdown",
   "id": "7a8baf3a-9a92-419d-845d-61bfef920b73",
   "metadata": {},
   "source": [
    "# Bar chart"
   ]
  },
  {
   "cell_type": "code",
   "execution_count": 55,
   "id": "1b43b664-50d0-4a14-a08f-4c2b9450edff",
   "metadata": {},
   "outputs": [],
   "source": [
    "x=np.array([\"X\",\"Y\",\"W\",\"Z\"])\n",
    "y=np.array([25,30,27,22])"
   ]
  },
  {
   "cell_type": "code",
   "execution_count": 57,
   "id": "69c72fae-1c5a-46f4-b393-ca2e6959319c",
   "metadata": {},
   "outputs": [
    {
     "data": {
      "image/png": "[encoded data removed]",
      "text/plain": [
       "<Figure size 640x480 with 1 Axes>"
      ]
     },
     "metadata": {},
     "output_type": "display_data"
    }
   ],
   "source": [
    "plt.bar(x,y)\n",
    "plt.show()"
   ]
  },
  {
   "cell_type": "markdown",
   "id": "d6cf7af2-1c55-4307-a40d-7dfdded0b4ff",
   "metadata": {},
   "source": [
    "# Scatter Plot"
   ]
  },
  {
   "cell_type": "code",
   "execution_count": 58,
   "id": "855814c3-c70b-48d5-9c88-8ffcec167b6d",
   "metadata": {},
   "outputs": [],
   "source": [
    "x=np.array([20,15,11,7,8,10])\n",
    "y=np.array([2,7,15,8,10,12])"
   ]
  },
  {
   "cell_type": "code",
   "execution_count": 59,
   "id": "b22ac486-f857-4901-852c-7b164643a9b1",
   "metadata": {},
   "outputs": [
    {
     "data": {
      "image/png": "[encoded data removed]",
      "text/plain": [
       "<Figure size 640x480 with 1 Axes>"
      ]
     },
     "metadata": {},
     "output_type": "display_data"
    }
   ],
   "source": [
    "plt.scatter(x,y)\n",
    "plt.show()"
   ]
  },
  {
   "cell_type": "markdown",
   "id": "3008abc0-533d-4d99-878c-2ed0ed88acd3",
   "metadata": {},
   "source": [
    "# Pie Chart"
   ]
  },
  {
   "cell_type": "code",
   "execution_count": 60,
   "id": "ddb2c4ba-daae-454a-84c6-97a5328f173c",
   "metadata": {},
   "outputs": [
    {
     "data": {
      "image/png": "[encoded data removed]",
      "text/plain": [
       "<Figure size 640x480 with 1 Axes>"
      ]
     },
     "metadata": {},
     "output_type": "display_data"
    }
   ],
   "source": [
    "p=np.array([30,20,25,20])\n",
    "plt.pie(p)\n",
    "plt.show()"
   ]
  },
  {
   "cell_type": "markdown",
   "id": "74e92d6e-6b03-4a91-a2d3-ac60a72de41a",
   "metadata": {},
   "source": [
    "# Histogram"
   ]
  },
  {
   "cell_type": "code",
   "execution_count": 61,
   "id": "5983e2a9-5b6e-4579-8892-065e9d94b99d",
   "metadata": {},
   "outputs": [
    {
     "data": {
      "image/png": "[encoded data removed]",
      "text/plain": [
       "<Figure size 640x480 with 1 Axes>"
      ]
     },
     "metadata": {},
     "output_type": "display_data"
    }
   ],
   "source": [
    "h1=np.random.normal(170,25,150)\n",
    "plt.hist(h1)\n",
    "plt.show()"
   ]
  },
  {
   "cell_type": "markdown",
   "id": "4b31fde3-f3c7-45de-abb3-173eb15feb39",
   "metadata": {},
   "source": [
    "# Seaborn"
   ]
  },
  {
   "cell_type": "code",
   "execution_count": 63,
   "id": "7094d457-5edf-45de-a86c-8f0eb04e25ca",
   "metadata": {},
   "outputs": [
    {
     "name": "stdout",
     "output_type": "stream",
     "text": [
      "Collecting seaborn\n",
      "  Downloading seaborn-0.13.2-py3-none-any.whl.metadata (5.4 kB)\n",
      "Requirement already satisfied: numpy!=1.24.0,>=1.20 in c:\\users\\lenovo\\appdata\\local\\programs\\python\\python313\\lib\\site-packages (from seaborn) (2.2.0)\n",
      "Requirement already satisfied: pandas>=1.2 in c:\\users\\lenovo\\appdata\\local\\programs\\python\\python313\\lib\\site-packages (from seaborn) (2.2.3)\n",
      "Requirement already satisfied: matplotlib!=3.6.1,>=3.4 in c:\\users\\lenovo\\appdata\\local\\programs\\python\\python313\\lib\\site-packages (from seaborn) (3.9.3)\n",
      "Requirement already satisfied: contourpy>=1.0.1 in c:\\users\\lenovo\\appdata\\local\\programs\\python\\python313\\lib\\site-packages (from matplotlib!=3.6.1,>=3.4->seaborn) (1.3.1)\n",
      "Requirement already satisfied: cycler>=0.10 in c:\\users\\lenovo\\appdata\\local\\programs\\python\\python313\\lib\\site-packages (from matplotlib!=3.6.1,>=3.4->seaborn) (0.12.1)\n",
      "Requirement already satisfied: fonttools>=4.22.0 in c:\\users\\lenovo\\appdata\\local\\programs\\python\\python313\\lib\\site-packages (from matplotlib!=3.6.1,>=3.4->seaborn) (4.55.3)\n",
      "Requirement already satisfied: kiwisolver>=1.3.1 in c:\\users\\lenovo\\appdata\\local\\programs\\python\\python313\\lib\\site-packages (from matplotlib!=3.6.1,>=3.4->seaborn) (1.4.7)\n",
      "Requirement already satisfied: packaging>=20.0 in c:\\users\\lenovo\\appdata\\local\\programs\\python\\python313\\lib\\site-packages (from matplotlib!=3.6.1,>=3.4->seaborn) (24.2)\n",
      "Requirement already satisfied: pillow>=8 in c:\\users\\lenovo\\appdata\\local\\programs\\python\\python313\\lib\\site-packages (from matplotlib!=3.6.1,>=3.4->seaborn) (11.0.0)\n",
      "Requirement already satisfied: pyparsing>=2.3.1 in c:\\users\\lenovo\\appdata\\local\\programs\\python\\python313\\lib\\site-packages (from matplotlib!=3.6.1,>=3.4->seaborn) (3.2.0)\n",
      "Requirement already satisfied: python-dateutil>=2.7 in c:\\users\\lenovo\\appdata\\local\\programs\\python\\python313\\lib\\site-packages (from matplotlib!=3.6.1,>=3.4->seaborn) (2.9.0.post0)\n",
      "Requirement already satisfied: pytz>=2020.1 in c:\\users\\lenovo\\appdata\\local\\programs\\python\\python313\\lib\\site-packages (from pandas>=1.2->seaborn) (2024.2)\n",
      "Requirement already satisfied: tzdata>=2022.7 in c:\\users\\lenovo\\appdata\\local\\programs\\python\\python313\\lib\\site-packages (from pandas>=1.2->seaborn) (2024.2)\n",
      "Requirement already satisfied: six>=1.5 in c:\\users\\lenovo\\appdata\\local\\programs\\python\\python313\\lib\\site-packages (from python-dateutil>=2.7->matplotlib!=3.6.1,>=3.4->seaborn) (1.17.0)\n",
      "Downloading seaborn-0.13.2-py3-none-any.whl (294 kB)\n",
      "Installing collected packages: seaborn\n",
      "Successfully installed seaborn-0.13.2\n",
      "Note: you may need to restart the kernel to use updated packages.\n"
     ]
    }
   ],
   "source": [
    "pip install seaborn"
   ]
  },
  {
   "cell_type": "code",
   "execution_count": 64,
   "id": "8bae842d-3212-439e-8235-2fc7157eb802",
   "metadata": {},
   "outputs": [],
   "source": [
    "import seaborn as sns"
   ]
  },
  {
   "cell_type": "code",
   "execution_count": 65,
   "id": "453ad384-160f-4f5c-9184-5580e3dd5257",
   "metadata": {},
   "outputs": [],
   "source": [
    "import matplotlib.pyplot as plt"
   ]
  },
  {
   "cell_type": "code",
   "execution_count": 66,
   "id": "ce01213d-aca9-42b1-bef8-bbbbf020287e",
   "metadata": {},
   "outputs": [],
   "source": [
    "import pandas as pd"
   ]
  },
  {
   "cell_type": "code",
   "execution_count": null,
   "id": "3d9140ec-3c24-4f8c-bfb1-39da6127ab3c",
   "metadata": {},
   "outputs": [],
   "source": []
  }
 ],
 "metadata": {
  "kernelspec": {
   "display_name": "Python 3 (ipykernel)",
   "language": "python",
   "name": "python3"
  },
  "language_info": {
   "codemirror_mode": {
    "name": "ipython",
    "version": 3
   },
   "file_extension": ".py",
   "mimetype": "text/x-python",
   "name": "python",
   "nbconvert_exporter": "python",
   "pygments_lexer": "ipython3",
   "version": "3.13.1"
  }
 },
 "nbformat": 4,
 "nbformat_minor": 5
}
